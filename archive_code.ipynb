{
 "cells": [
  {
   "cell_type": "code",
   "execution_count": 1,
   "metadata": {
    "execution": {
     "iopub.execute_input": "2024-01-22T05:26:27.107684Z",
     "iopub.status.busy": "2024-01-22T05:26:27.105054Z",
     "iopub.status.idle": "2024-01-22T05:26:28.289756Z",
     "shell.execute_reply": "2024-01-22T05:26:28.276667Z",
     "shell.execute_reply.started": "2024-01-22T05:26:27.107304Z"
    },
    "tags": []
   },
   "outputs": [
    {
     "name": "stdout",
     "output_type": "stream",
     "text": [
      "  adding: giverny/turbulence_gizmos/basic_gizmos.py (deflated 78%)\n",
      "  adding: giverny/turbulence_gizmos/constants.py (deflated 60%)\n",
      "  adding: giverny/turbulence_gizmos/getCutout.py (deflated 71%)\n",
      "  adding: giverny/turbulence_gizmos/getData.py (deflated 68%)\n",
      "  adding: giverny/turbulence_toolkit.py (deflated 76%)\n",
      "  adding: giverny/isotropic_cube.py (deflated 85%)\n",
      "  adding: archive_code.ipynb (deflated 73%)\n",
      "  adding: turbulence-version.txt (deflated 60%)\n",
      "  adding: Getdata_JHTDB_2.ipynb (deflated 85%)\n",
      "  adding: ongoing_work_to_do.txt (deflated 66%)\n",
      "Archiving completed successfully...\n"
     ]
    }
   ],
   "source": [
    "\"\"\"\n",
    "archive all of the relevant code files.\n",
    "\"\"\"\n",
    "import os\n",
    "import sys\n",
    "import shutil\n",
    "import datetime\n",
    "\n",
    "zip_filename = 'turbulence_code-before_ncar_grid_index_to_meter_conversion.zip'\n",
    "\n",
    "# files to be archived.\n",
    "archive_files = set([])\n",
    "archive_files.add('archive_code.ipynb')\n",
    "# archive_files.add('ongoing_work_to_do.txt')\n",
    "archive_files.add('Getdata_JHTDB_2.ipynb')\n",
    "archive_files.add('turbulence-version.txt')\n",
    "archive_files.add('giverny/*.py')\n",
    "archive_files.add('giverny/turbulence_gizmos/*.py')\n",
    "\n",
    "archive_files = list(archive_files)\n",
    "archive_files_str = ' '.join(archive_files)\n",
    "\n",
    "# get current timestamp.\n",
    "datetime_info = str(datetime.datetime.now()).split(' ')\n",
    "date = ''.join(datetime_info[0].split('-'))\n",
    "time = ''.join(datetime_info[1].split('.')[0].split(':')[:2])\n",
    "formatted_datetime = date + '_' + time\n",
    "#formatted_datetime = date\n",
    "\n",
    "# update zip_filename with a current timestamp.\n",
    "zip_filename = formatted_datetime + '-' + zip_filename\n",
    "\n",
    "# get current working directory.\n",
    "data_dir = os.getcwd() + '/'\n",
    "\n",
    "# archive all of the code files.\n",
    "try:\n",
    "    os.remove(zip_filename)\n",
    "except:\n",
    "    pass\n",
    "\n",
    "#shutil.make_archive(data_dir + zip_filename, format = 'zip', root_dir = data_dir, base_dir = data_dir)\n",
    "#zipped_file = os.system('zip -r ' + zip_filename + ' . -i *.txt *.py *.ipynb')\n",
    "zipped_file = os.system('zip -r ' + zip_filename + ' . -i ' + archive_files_str)\n",
    "\n",
    "print('Archiving completed successfully...')\n",
    "sys.stdout.flush()"
   ]
  },
  {
   "cell_type": "code",
   "execution_count": 2,
   "metadata": {
    "execution": {
     "iopub.execute_input": "2024-01-22T20:33:29.073310Z",
     "iopub.status.busy": "2024-01-22T20:33:29.071824Z",
     "iopub.status.idle": "2024-01-22T20:33:31.507197Z",
     "shell.execute_reply": "2024-01-22T20:33:31.503229Z",
     "shell.execute_reply.started": "2024-01-22T20:33:29.073204Z"
    },
    "tags": []
   },
   "outputs": [
    {
     "name": "stdout",
     "output_type": "stream",
     "text": [
      "Unzipping completed successfully...\n"
     ]
    }
   ],
   "source": [
    "\"\"\"\n",
    "unzip archived files.\n",
    "\"\"\"\n",
    "import os\n",
    "import sys\n",
    "import zipfile\n",
    "\n",
    "# get current working directory.\n",
    "data_dir = os.getcwd() + '/'\n",
    "\n",
    "# parameters.\n",
    "# -----\n",
    "zip_filename = '20240122_0026-turbulence_code-before_ncar_grid_index_to_meter_conversion.zip'\n",
    "archive_dir = data_dir + ''\n",
    "output_dir = data_dir + ''\n",
    "\n",
    "# -----\n",
    "os.makedirs(output_dir, exist_ok = True)\n",
    "\n",
    "zip_filepath = archive_dir + zip_filename\n",
    "\n",
    "with zipfile.ZipFile(zip_filepath, 'r') as zip_ref:\n",
    "    zip_ref.extractall(output_dir)\n",
    "\n",
    "print('Unzipping completed successfully...')\n",
    "sys.stdout.flush()"
   ]
  },
  {
   "cell_type": "code",
   "execution_count": null,
   "metadata": {},
   "outputs": [],
   "source": []
  }
 ],
 "metadata": {
  "kernelspec": {
   "display_name": "Python 3.9 (py39)",
   "language": "python",
   "name": "py39"
  },
  "language_info": {
   "codemirror_mode": {
    "name": "ipython",
    "version": 3
   },
   "file_extension": ".py",
   "mimetype": "text/x-python",
   "name": "python",
   "nbconvert_exporter": "python",
   "pygments_lexer": "ipython3",
   "version": "3.9.13"
  }
 },
 "nbformat": 4,
 "nbformat_minor": 4
}
