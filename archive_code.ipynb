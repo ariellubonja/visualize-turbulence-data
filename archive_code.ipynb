{
 "cells": [
  {
   "cell_type": "code",
   "execution_count": 1,
   "metadata": {
    "execution": {
     "iopub.execute_input": "2023-12-21T07:05:03.928085Z",
     "iopub.status.busy": "2023-12-21T07:05:03.927173Z",
     "iopub.status.idle": "2023-12-21T07:05:09.336629Z",
     "shell.execute_reply": "2023-12-21T07:05:09.324552Z",
     "shell.execute_reply.started": "2023-12-21T07:05:03.927921Z"
    },
    "tags": []
   },
   "outputs": [
    {
     "name": "stdout",
     "output_type": "stream",
     "text": [
      "  adding: giverny/turbulence_gizmos/basic_gizmos.py (deflated 78%)\n",
      "  adding: giverny/turbulence_gizmos/constants.py (deflated 60%)\n",
      "  adding: giverny/turbulence_gizmos/getCutout.py (deflated 71%)\n",
      "  adding: giverny/turbulence_gizmos/getData.py (deflated 70%)\n",
      "  adding: giverny/turbulence_toolkit.py (deflated 79%)\n",
      "  adding: giverny/isotropic_cube.py (deflated 85%)\n",
      "  adding: archive_code.ipynb (deflated 69%)\n",
      "  adding: turbulence-version.txt (deflated 60%)\n",
      "  adding: Getdata_JHTDB_2.ipynb (deflated 32%)\n",
      "  adding: ongoing_work_to_do.txt (deflated 66%)\n",
      "Archiving completed successfully...\n"
     ]
    }
   ],
   "source": [
    "\"\"\"\n",
    "archive all of the relevant code files.\n",
    "\"\"\"\n",
    "import os\n",
    "import sys\n",
    "import shutil\n",
    "import datetime\n",
    "\n",
    "zip_filename = 'turbulence_code-getdata_before_lots_of_code_cleanup.zip'\n",
    "\n",
    "# files to be archived.\n",
    "archive_files = set([])\n",
    "archive_files.add('archive_code.ipynb')\n",
    "archive_files.add('ongoing_work_to_do.txt')\n",
    "archive_files.add('Getdata_JHTDB_2.ipynb')\n",
    "archive_files.add('turbulence-version.txt')\n",
    "archive_files.add('giverny/*.py')\n",
    "archive_files.add('giverny/turbulence_gizmos/*.py')\n",
    "\n",
    "archive_files = list(archive_files)\n",
    "archive_files_str = ' '.join(archive_files)\n",
    "\n",
    "# get current timestamp.\n",
    "datetime_info = str(datetime.datetime.now()).split(' ')\n",
    "date = ''.join(datetime_info[0].split('-'))\n",
    "time = ''.join(datetime_info[1].split('.')[0].split(':')[:2])\n",
    "formatted_datetime = date + '_' + time\n",
    "#formatted_datetime = date\n",
    "\n",
    "# update zip_filename with a current timestamp.\n",
    "zip_filename = formatted_datetime + '-' + zip_filename\n",
    "\n",
    "# get current working directory.\n",
    "data_dir = os.getcwd() + '/'\n",
    "\n",
    "# archive all of the code files.\n",
    "try:\n",
    "    os.remove(zip_filename)\n",
    "except:\n",
    "    pass\n",
    "\n",
    "#shutil.make_archive(data_dir + zip_filename, format = 'zip', root_dir = data_dir, base_dir = data_dir)\n",
    "#zipped_file = os.system('zip -r ' + zip_filename + ' . -i *.txt *.py *.ipynb')\n",
    "zipped_file = os.system('zip -r ' + zip_filename + ' . -i ' + archive_files_str)\n",
    "\n",
    "print('Archiving completed successfully...')\n",
    "sys.stdout.flush()"
   ]
  },
  {
   "cell_type": "code",
   "execution_count": 1,
   "metadata": {
    "execution": {
     "iopub.execute_input": "2023-04-21T12:25:05.463906Z",
     "iopub.status.busy": "2023-04-21T12:25:05.463026Z",
     "iopub.status.idle": "2023-04-21T12:25:06.431796Z",
     "shell.execute_reply": "2023-04-21T12:25:06.430264Z",
     "shell.execute_reply.started": "2023-04-21T12:25:05.463748Z"
    }
   },
   "outputs": [
    {
     "name": "stdout",
     "output_type": "stream",
     "text": [
      "Unzipping completed successfully...\n"
     ]
    }
   ],
   "source": [
    "\"\"\"\n",
    "unzip archived files.\n",
    "\"\"\"\n",
    "import os\n",
    "import sys\n",
    "import zipfile\n",
    "\n",
    "# get current working directory.\n",
    "data_dir = os.getcwd() + '/'\n",
    "\n",
    "# parameters.\n",
    "# -----\n",
    "zip_filename = '20230421_1008-turbulence_code-zarr.zip'\n",
    "archive_dir = data_dir + ''\n",
    "output_dir = data_dir + 'tmp/'\n",
    "\n",
    "# -----\n",
    "os.makedirs(output_dir, exist_ok = True)\n",
    "\n",
    "zip_filepath = archive_dir + zip_filename\n",
    "\n",
    "with zipfile.ZipFile(zip_filepath, 'r') as zip_ref:\n",
    "    zip_ref.extractall(output_dir)\n",
    "\n",
    "print('Unzipping completed successfully...')\n",
    "sys.stdout.flush()"
   ]
  },
  {
   "cell_type": "code",
   "execution_count": null,
   "metadata": {},
   "outputs": [],
   "source": []
  }
 ],
 "metadata": {
  "kernelspec": {
   "display_name": "Python 3.9 (py39)",
   "language": "python",
   "name": "py39"
  },
  "language_info": {
   "codemirror_mode": {
    "name": "ipython",
    "version": 3
   },
   "file_extension": ".py",
   "mimetype": "text/x-python",
   "name": "python",
   "nbconvert_exporter": "python",
   "pygments_lexer": "ipython3",
   "version": "3.9.13"
  }
 },
 "nbformat": 4,
 "nbformat_minor": 4
}
