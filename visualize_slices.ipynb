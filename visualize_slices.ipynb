{
 "cells": [
  {
   "cell_type": "markdown",
   "metadata": {},
   "source": [
    "Code used to sanity-check data: plotting raw and written files, calculating various statistics"
   ]
  },
  {
   "cell_type": "markdown",
   "metadata": {
    "jp-MarkdownHeadingCollapsed": true,
    "tags": [],
    "toc-hr-collapsed": true
   },
   "source": [
    "# JHD (First NCAR dataset) Plot NetCDF Raw data"
   ]
  },
  {
   "cell_type": "markdown",
   "metadata": {
    "jp-MarkdownHeadingCollapsed": true,
    "tags": []
   },
   "source": [
    "### Setup"
   ]
  },
  {
   "cell_type": "code",
   "execution_count": null,
   "metadata": {
    "tags": []
   },
   "outputs": [],
   "source": [
    "import zarr\n",
    "import matplotlib.pyplot as plt\n",
    "import numpy as np\n",
    "import xarray as xr\n",
    "\n",
    "import os"
   ]
  },
  {
   "cell_type": "code",
   "execution_count": null,
   "metadata": {
    "tags": []
   },
   "outputs": [],
   "source": [
    "# %matplotlib widget"
   ]
  },
  {
   "cell_type": "code",
   "execution_count": null,
   "metadata": {
    "tags": []
   },
   "outputs": [],
   "source": [
    "# raw_ncar_folder_path = '/home/idies/workspace/turb/data02_02/ncar-low-rate-fixed-dt/'\n",
    "raw_ncar_folder_path = '/home/idies/workspace/turbulence-ceph-staging/ncar-jhf/lr'\n",
    "save_folder_path = '/home/idies/workspace/Storage/ariel4/persistent/ncar-zarr-code/zarr_reading/visualizations/'\n",
    "\n",
    "chunk_size=64\n",
    "\n",
    "\n",
    "var = 'e'\n",
    "variable = var\n",
    "\n",
    "# timestep_range = range(5) # This will definitely crash the Kernel\n",
    "timestep_nr = 0"
   ]
  },
  {
   "cell_type": "code",
   "execution_count": null,
   "metadata": {
    "tags": []
   },
   "outputs": [],
   "source": [
    "# needed for sciserver jobs\n",
    "%cd /home/idies/workspace/Storage/ariel4/persistent/zarrify-across-network"
   ]
  },
  {
   "cell_type": "code",
   "execution_count": null,
   "metadata": {
    "tags": []
   },
   "outputs": [],
   "source": [
    "# for timestep_nr in timestep_range:\n",
    "#     data = xr.open_dataset(raw_ncar_folder_path + \"/jhd.00\" + str(timestep_nr) + \".nc\")\n",
    "\n",
    "\n",
    "data_xr = xr.open_dataset(raw_ncar_folder_path + \"/jhf.\" + str(timestep_nr).zfill(3) + \".nc\", chunks={'nnz': chunk_size, 'nny': chunk_size, 'nnx': chunk_size})"
   ]
  },
  {
   "cell_type": "code",
   "execution_count": null,
   "metadata": {
    "tags": []
   },
   "outputs": [],
   "source": [
    "steps = range(0, data_xr['t'].shape[2], 10)\n",
    "\n",
    "# for i, z in enumerate(z_steps):\n",
    "#     print(i,z)"
   ]
  },
  {
   "cell_type": "markdown",
   "metadata": {},
   "source": [
    "### Read Access Time Results\n",
    "\n",
    "3min 45s +- 4min(!) to load Array `np.array(data[var])`\n",
    "\n",
    "33.3s to plot using in-memory numpy array (from above)\n",
    "\n",
    "14min 17s +- 6min for loading data using `data_xr[var][slice]` every time\n",
    "\n",
    "Skipping the np.array loading takes wayyy too long (>1h for 7 runs atm)\n",
    "\n",
    "<font color=\"red\">Use `np.array(data_xr['e'].isel(nnz=z_indices, nny=slice(None), nnx=slice(None)))`!! Only 15sec!</font>"
   ]
  },
  {
   "cell_type": "markdown",
   "metadata": {
    "jp-MarkdownHeadingCollapsed": true,
    "tags": []
   },
   "source": [
    "### Plotting"
   ]
  },
  {
   "cell_type": "code",
   "execution_count": null,
   "metadata": {
    "tags": []
   },
   "outputs": [],
   "source": [
    "# TODO make this into a function\n",
    "\n",
    "z_indices = [0]\n",
    "x_indices = [0]\n",
    "# z_indices = [2047]\n",
    "z = 0\n",
    "\n",
    "# Change this to slice along a different axis\n",
    "# slice_data = np.array(data_xr[var].isel(nnz=z_indices, nny=slice(None), nnx=slice(None)))\n",
    "# Load only 512x512\n",
    "# slice_data = np.array(data_xr[var].isel(nnz=z_indices, nny=slice(0, 512), nnx=slice(0, 512)))\n",
    "slice_data = np.array(data_xr[var].isel(nnz=slice(0, 512), nny=slice(0, 512), nnx=z_indices))\n",
    "\n",
    "slice_data = np.squeeze(slice_data)"
   ]
  },
  {
   "cell_type": "code",
   "execution_count": null,
   "metadata": {
    "tags": []
   },
   "outputs": [],
   "source": [
    "slice_data.shape"
   ]
  },
  {
   "cell_type": "code",
   "execution_count": null,
   "metadata": {},
   "outputs": [],
   "source": [
    "# slice_data = slice_data[:512, :512]"
   ]
  },
  {
   "cell_type": "code",
   "execution_count": null,
   "metadata": {
    "tags": []
   },
   "outputs": [],
   "source": [
    "plt.figure(figsize=(10,10))\n",
    "plt.imshow(slice_data)#, cmap='gist_gray')#, vmin=-.5, vmax=.6)\n",
    "\n",
    "#     name = \"[z,y=\" +str(y) + \",x]\" # y\n",
    "# name = \"Timestep = \", timestep_nr, \", Var = \", var, \"[z=\" +str(z) + \",y,x]\" # z\n",
    "name = \"Timestep = \", timestep_nr, \", Var = \", var, \"[z,y,x=\" +str(z) + \"]\" # x\n",
    "\n",
    "plt.title(name, fontsize=20)\n",
    "plt.colorbar()\n",
    "\n",
    "# Save figures to disk\n",
    "# plt.savefig(f'visualizations/timestep_' + str(timestep_nr) + '/' + var + \"/\" + name + '.png')\n",
    "# plt.close()"
   ]
  },
  {
   "cell_type": "code",
   "execution_count": null,
   "metadata": {
    "tags": []
   },
   "outputs": [],
   "source": [
    "# TODO make this into a function\n",
    "var = 'u'\n",
    "\n",
    "z_indices = [0]\n",
    "x_indices = [0]\n",
    "# z_indices = [2047]\n",
    "z = 0\n",
    "\n",
    "# Change this to slice along a different axis\n",
    "# slice_data = np.array(data_xr[var].isel(nnz=z_indices, nny=slice(None), nnx=slice(None)))\n",
    "# Load only 512x512\n",
    "# slice_data = np.array(data_xr[var].isel(nnz=z_indices, nny=slice(0, 512), nnx=slice(0, 512)))\n",
    "slice_data = np.array(data_xr[var].isel(nnz=slice(0, 512), nny=slice(0, 512), nnx=z_indices))\n",
    "\n",
    "slice_data = np.squeeze(slice_data)\n",
    "\n",
    "\n",
    "plt.figure(figsize=(10,10))\n",
    "plt.imshow(slice_data)#, cmap='gist_gray')#, vmin=-.5, vmax=.6)\n",
    "\n",
    "#     name = \"[z,y=\" +str(y) + \",x]\" # y\n",
    "# name = \"Timestep = \", timestep_nr, \", Var = \", var, \"[z=\" +str(z) + \",y,x]\" # z\n",
    "name = \"Timestep = \", timestep_nr, \", Var = \", var, \"[z,y,x=\" +str(z) + \"]\" # x\n",
    "\n",
    "plt.title(name, fontsize=20)\n",
    "plt.colorbar()\n",
    "\n",
    "# Save figures to disk\n",
    "# plt.savefig(f'visualizations/timestep_' + str(timestep_nr) + '/' + var + \"/\" + name + '.png')\n",
    "# plt.close()"
   ]
  },
  {
   "cell_type": "code",
   "execution_count": null,
   "metadata": {
    "tags": []
   },
   "outputs": [],
   "source": [
    "# TODO make this into a function\n",
    "var = 'v'\n",
    "\n",
    "z_indices = [0]\n",
    "x_indices = [0]\n",
    "# z_indices = [2047]\n",
    "z = 0\n",
    "\n",
    "# Change this to slice along a different axis\n",
    "# slice_data = np.array(data_xr[var].isel(nnz=z_indices, nny=slice(None), nnx=slice(None)))\n",
    "# Load only 512x512\n",
    "# slice_data = np.array(data_xr[var].isel(nnz=z_indices, nny=slice(0, 512), nnx=slice(0, 512)))\n",
    "slice_data = np.array(data_xr[var].isel(nnz=slice(0, 512), nny=slice(0, 512), nnx=z_indices))\n",
    "\n",
    "slice_data = np.squeeze(slice_data)\n",
    "\n",
    "\n",
    "plt.figure(figsize=(10,10))\n",
    "plt.imshow(slice_data)#, cmap='gist_gray')#, vmin=-.5, vmax=.6)\n",
    "\n",
    "#     name = \"[z,y=\" +str(y) + \",x]\" # y\n",
    "# name = \"Timestep = \", timestep_nr, \", Var = \", var, \"[z=\" +str(z) + \",y,x]\" # z\n",
    "name = \"Timestep = \", timestep_nr, \", Var = \", var, \"[z,y,x=\" +str(z) + \"]\" # x\n",
    "\n",
    "plt.title(name, fontsize=20)\n",
    "plt.colorbar()\n",
    "\n",
    "# Save figures to disk\n",
    "# plt.savefig(f'visualizations/timestep_' + str(timestep_nr) + '/' + var + \"/\" + name + '.png')\n",
    "# plt.close()"
   ]
  },
  {
   "cell_type": "code",
   "execution_count": null,
   "metadata": {
    "tags": []
   },
   "outputs": [],
   "source": [
    "# TODO make this into a function\n",
    "var = 'w'\n",
    "\n",
    "z_indices = [0]\n",
    "x_indices = [0]\n",
    "# z_indices = [2047]\n",
    "z = 0\n",
    "\n",
    "# Change this to slice along a different axis\n",
    "# slice_data = np.array(data_xr[var].isel(nnz=z_indices, nny=slice(None), nnx=slice(None)))\n",
    "# Load only 512x512\n",
    "# slice_data = np.array(data_xr[var].isel(nnz=z_indices, nny=slice(0, 512), nnx=slice(0, 512)))\n",
    "slice_data = np.array(data_xr[var].isel(nnz=slice(0, 512), nny=slice(0, 512), nnx=z_indices))\n",
    "\n",
    "slice_data = np.squeeze(slice_data)\n",
    "\n",
    "\n",
    "plt.figure(figsize=(10,10))\n",
    "plt.imshow(slice_data)#, cmap='gist_gray')#, vmin=-.5, vmax=.6)\n",
    "\n",
    "#     name = \"[z,y=\" +str(y) + \",x]\" # y\n",
    "# name = \"Timestep = \", timestep_nr, \", Var = \", var, \"[z=\" +str(z) + \",y,x]\" # z\n",
    "name = \"Timestep = \", timestep_nr, \", Var = \", var, \"[z,y,x=\" +str(z) + \"]\" # x\n",
    "\n",
    "plt.title(name, fontsize=20)\n",
    "plt.colorbar()\n",
    "\n",
    "# Save figures to disk\n",
    "# plt.savefig(f'visualizations/timestep_' + str(timestep_nr) + '/' + var + \"/\" + name + '.png')\n",
    "# plt.close()"
   ]
  },
  {
   "cell_type": "code",
   "execution_count": null,
   "metadata": {},
   "outputs": [],
   "source": [
    "# TODO make this into a function\n",
    "var = 't'\n",
    "\n",
    "z_indices = [0]\n",
    "x_indices = [0]\n",
    "# z_indices = [2047]\n",
    "z = 0\n",
    "\n",
    "# Change this to slice along a different axis\n",
    "# slice_data = np.array(data_xr[var].isel(nnz=z_indices, nny=slice(None), nnx=slice(None)))\n",
    "# Load only 512x512\n",
    "# slice_data = np.array(data_xr[var].isel(nnz=z_indices, nny=slice(0, 512), nnx=slice(0, 512)))\n",
    "slice_data = np.array(data_xr[var].isel(nnz=slice(0, 512), nny=slice(0, 512), nnx=z_indices))\n",
    "\n",
    "slice_data = np.squeeze(slice_data)\n",
    "\n",
    "\n",
    "plt.figure(figsize=(10,10))\n",
    "plt.imshow(slice_data)#, cmap='gist_gray')#, vmin=-.5, vmax=.6)\n",
    "\n",
    "#     name = \"[z,y=\" +str(y) + \",x]\" # y\n",
    "# name = \"Timestep = \", timestep_nr, \", Var = \", var, \"[z=\" +str(z) + \",y,x]\" # z\n",
    "name = \"Timestep = \", timestep_nr, \", Var = \", var, \"[z,y,x=\" +str(z) + \"]\" # x\n",
    "\n",
    "plt.title(name, fontsize=20)\n",
    "plt.colorbar()\n",
    "\n",
    "# Save figures to disk\n",
    "# plt.savefig(f'visualizations/timestep_' + str(timestep_nr) + '/' + var + \"/\" + name + '.png')\n",
    "# plt.close()"
   ]
  },
  {
   "cell_type": "markdown",
   "metadata": {},
   "source": [
    "# Visually Verify Newer NCAR StSABL (jhf)"
   ]
  },
  {
   "cell_type": "markdown",
   "metadata": {},
   "source": [
    "<font color='cyan'>\n",
    "\n",
    "## Remember, index is nnz-nny-nnx. first dim is Z\n",
    "    \n",
    "</font>"
   ]
  },
  {
   "cell_type": "markdown",
   "metadata": {
    "tags": []
   },
   "source": [
    "## Plot Zarr-Written data"
   ]
  },
  {
   "cell_type": "markdown",
   "metadata": {},
   "source": [
    "### High-Rate"
   ]
  },
  {
   "cell_type": "code",
   "execution_count": 30,
   "metadata": {
    "execution": {
     "iopub.execute_input": "2024-12-23T22:59:12.844935Z",
     "iopub.status.busy": "2024-12-23T22:59:12.844268Z",
     "iopub.status.idle": "2024-12-23T22:59:12.854277Z",
     "shell.execute_reply": "2024-12-23T22:59:12.852308Z",
     "shell.execute_reply.started": "2024-12-23T22:59:12.844884Z"
    },
    "tags": []
   },
   "outputs": [],
   "source": [
    "stored_jhf_hr_path = \"/home/idies/workspace/turbulence-ceph-staging/sciserver-turbulence/stsabl2048high/stsabl2048high.zarr\"\n",
    "raw_jhf_hr_0_path = \"/home/idies/workspace/turbulence-ceph-staging/ncar-jhf/hr/jhf.000.nc\"\n",
    "raw_jhf_hr_1_path = \"/home/idies/workspace/turbulence-ceph-staging/ncar-jhf/hr/jhf.001.nc\"\n",
    "raw_jhf_hr_104_path = \"/home/idies/workspace/turbulence-ceph-staging/ncar-jhf/hr/jhf.104.nc\""
   ]
  },
  {
   "cell_type": "code",
   "execution_count": 23,
   "metadata": {
    "execution": {
     "iopub.execute_input": "2024-12-23T22:45:18.915125Z",
     "iopub.status.busy": "2024-12-23T22:45:18.914466Z",
     "iopub.status.idle": "2024-12-23T22:45:19.753119Z",
     "shell.execute_reply": "2024-12-23T22:45:19.751409Z",
     "shell.execute_reply.started": "2024-12-23T22:45:18.915074Z"
    },
    "tags": []
   },
   "outputs": [],
   "source": [
    "import zarr\n",
    "import xarray as xr\n",
    "import numpy as np\n",
    "\n",
    "jhf_hr_zarr = zarr.open(stored_jhf_hr_path)\n",
    "jhf_hr_netcdf_t0 = xr.open_dataset(raw_jhf_hr_0_path)\n",
    "jhf_hr_netcdf_t1 = xr.open_dataset(raw_jhf_hr_1_path)\n",
    "jhf_hr_netcdf_t104 = xr.open_dataset(raw_jhf_hr_104_path)"
   ]
  },
  {
   "cell_type": "markdown",
   "metadata": {
    "jp-MarkdownHeadingCollapsed": true,
    "tags": []
   },
   "source": [
    "#### `zarr.info`"
   ]
  },
  {
   "cell_type": "code",
   "execution_count": 20,
   "metadata": {
    "execution": {
     "iopub.execute_input": "2024-12-23T22:42:47.184519Z",
     "iopub.status.busy": "2024-12-23T22:42:47.183856Z",
     "iopub.status.idle": "2024-12-23T22:42:47.198086Z",
     "shell.execute_reply": "2024-12-23T22:42:47.196387Z",
     "shell.execute_reply.started": "2024-12-23T22:42:47.184470Z"
    },
    "tags": []
   },
   "outputs": [
    {
     "data": {
      "text/html": [
       "<table class=\"zarr-info\"><tbody><tr><th style=\"text-align: left\">Name</th><td style=\"text-align: left\">/energy</td></tr><tr><th style=\"text-align: left\">Type</th><td style=\"text-align: left\">zarr.core.Array</td></tr><tr><th style=\"text-align: left\">Data type</th><td style=\"text-align: left\">float32</td></tr><tr><th style=\"text-align: left\">Shape</th><td style=\"text-align: left\">(105, 2048, 2048, 2048, 1)</td></tr><tr><th style=\"text-align: left\">Chunk shape</th><td style=\"text-align: left\">(1, 64, 64, 64, 1)</td></tr><tr><th style=\"text-align: left\">Order</th><td style=\"text-align: left\">C</td></tr><tr><th style=\"text-align: left\">Read-only</th><td style=\"text-align: left\">False</td></tr><tr><th style=\"text-align: left\">Compressor</th><td style=\"text-align: left\">None</td></tr><tr><th style=\"text-align: left\">Store type</th><td style=\"text-align: left\">zarr.storage.DirectoryStore</td></tr><tr><th style=\"text-align: left\">No. bytes</th><td style=\"text-align: left\">3607772528640 (3.3T)</td></tr><tr><th style=\"text-align: left\">No. bytes stored</th><td style=\"text-align: left\">329</td></tr><tr><th style=\"text-align: left\">Storage ratio</th><td style=\"text-align: left\">10965873947.2</td></tr><tr><th style=\"text-align: left\">Chunks initialized</th><td style=\"text-align: left\">5/3440640</td></tr></tbody></table>"
      ],
      "text/plain": [
       "Name               : /energy\n",
       "Type               : zarr.core.Array\n",
       "Data type          : float32\n",
       "Shape              : (105, 2048, 2048, 2048, 1)\n",
       "Chunk shape        : (1, 64, 64, 64, 1)\n",
       "Order              : C\n",
       "Read-only          : False\n",
       "Compressor         : None\n",
       "Store type         : zarr.storage.DirectoryStore\n",
       "No. bytes          : 3607772528640 (3.3T)\n",
       "No. bytes stored   : 329\n",
       "Storage ratio      : 10965873947.2\n",
       "Chunks initialized : 5/3440640"
      ]
     },
     "execution_count": 20,
     "metadata": {},
     "output_type": "execute_result"
    }
   ],
   "source": [
    "jhf_hr_zarr['energy'].info"
   ]
  },
  {
   "cell_type": "code",
   "execution_count": 12,
   "metadata": {
    "execution": {
     "iopub.execute_input": "2024-12-23T14:01:57.655648Z",
     "iopub.status.busy": "2024-12-23T14:01:57.655116Z",
     "iopub.status.idle": "2024-12-23T14:01:57.669207Z",
     "shell.execute_reply": "2024-12-23T14:01:57.667463Z",
     "shell.execute_reply.started": "2024-12-23T14:01:57.655607Z"
    },
    "tags": []
   },
   "outputs": [
    {
     "data": {
      "text/html": [
       "<table class=\"zarr-info\"><tbody><tr><th style=\"text-align: left\">Name</th><td style=\"text-align: left\">/velocity</td></tr><tr><th style=\"text-align: left\">Type</th><td style=\"text-align: left\">zarr.core.Array</td></tr><tr><th style=\"text-align: left\">Data type</th><td style=\"text-align: left\">float32</td></tr><tr><th style=\"text-align: left\">Shape</th><td style=\"text-align: left\">(105, 2048, 2048, 2048, 3)</td></tr><tr><th style=\"text-align: left\">Chunk shape</th><td style=\"text-align: left\">(1, 64, 64, 64, 3)</td></tr><tr><th style=\"text-align: left\">Order</th><td style=\"text-align: left\">C</td></tr><tr><th style=\"text-align: left\">Read-only</th><td style=\"text-align: left\">False</td></tr><tr><th style=\"text-align: left\">Compressor</th><td style=\"text-align: left\">None</td></tr><tr><th style=\"text-align: left\">Store type</th><td style=\"text-align: left\">zarr.storage.DirectoryStore</td></tr><tr><th style=\"text-align: left\">No. bytes</th><td style=\"text-align: left\">10823317585920 (9.8T)</td></tr><tr><th style=\"text-align: left\">No. bytes stored</th><td style=\"text-align: left\">329</td></tr><tr><th style=\"text-align: left\">Storage ratio</th><td style=\"text-align: left\">32897621841.7</td></tr><tr><th style=\"text-align: left\">Chunks initialized</th><td style=\"text-align: left\">20/3440640</td></tr></tbody></table>"
      ],
      "text/plain": [
       "Name               : /velocity\n",
       "Type               : zarr.core.Array\n",
       "Data type          : float32\n",
       "Shape              : (105, 2048, 2048, 2048, 3)\n",
       "Chunk shape        : (1, 64, 64, 64, 3)\n",
       "Order              : C\n",
       "Read-only          : False\n",
       "Compressor         : None\n",
       "Store type         : zarr.storage.DirectoryStore\n",
       "No. bytes          : 10823317585920 (9.8T)\n",
       "No. bytes stored   : 329\n",
       "Storage ratio      : 32897621841.7\n",
       "Chunks initialized : 20/3440640"
      ]
     },
     "execution_count": 12,
     "metadata": {},
     "output_type": "execute_result"
    }
   ],
   "source": [
    "jhf_hr_zarr['velocity'].info"
   ]
  },
  {
   "cell_type": "code",
   "execution_count": 21,
   "metadata": {
    "execution": {
     "iopub.execute_input": "2024-12-23T14:04:03.218862Z",
     "iopub.status.busy": "2024-12-23T14:04:03.218213Z",
     "iopub.status.idle": "2024-12-23T14:04:03.232955Z",
     "shell.execute_reply": "2024-12-23T14:04:03.231136Z",
     "shell.execute_reply.started": "2024-12-23T14:04:03.218818Z"
    },
    "tags": []
   },
   "outputs": [
    {
     "data": {
      "text/html": [
       "<table class=\"zarr-info\"><tbody><tr><th style=\"text-align: left\">Name</th><td style=\"text-align: left\">/</td></tr><tr><th style=\"text-align: left\">Type</th><td style=\"text-align: left\">zarr.hierarchy.Group</td></tr><tr><th style=\"text-align: left\">Read-only</th><td style=\"text-align: left\">False</td></tr><tr><th style=\"text-align: left\">Store type</th><td style=\"text-align: left\">zarr.storage.DirectoryStore</td></tr><tr><th style=\"text-align: left\">No. members</th><td style=\"text-align: left\">4</td></tr><tr><th style=\"text-align: left\">No. arrays</th><td style=\"text-align: left\">4</td></tr><tr><th style=\"text-align: left\">No. groups</th><td style=\"text-align: left\">0</td></tr><tr><th style=\"text-align: left\">Arrays</th><td style=\"text-align: left\">energy, pressure, temperature, velocity</td></tr></tbody></table>"
      ],
      "text/plain": [
       "Name        : /\n",
       "Type        : zarr.hierarchy.Group\n",
       "Read-only   : False\n",
       "Store type  : zarr.storage.DirectoryStore\n",
       "No. members : 4\n",
       "No. arrays  : 4\n",
       "No. groups  : 0\n",
       "Arrays      : energy, pressure, temperature, velocity"
      ]
     },
     "execution_count": 21,
     "metadata": {},
     "output_type": "execute_result"
    }
   ],
   "source": [
    "jhf_hr_zarr.info"
   ]
  },
  {
   "cell_type": "markdown",
   "metadata": {
    "jp-MarkdownHeadingCollapsed": true,
    "tags": []
   },
   "source": [
    "#### Indexing, Compare to 0"
   ]
  },
  {
   "cell_type": "code",
   "execution_count": 21,
   "metadata": {
    "execution": {
     "iopub.execute_input": "2024-12-23T22:44:43.368092Z",
     "iopub.status.busy": "2024-12-23T22:44:43.367426Z",
     "iopub.status.idle": "2024-12-23T22:44:44.412582Z",
     "shell.execute_reply": "2024-12-23T22:44:44.411006Z",
     "shell.execute_reply.started": "2024-12-23T22:44:43.368041Z"
    },
    "scrolled": true,
    "tags": []
   },
   "outputs": [
    {
     "name": "stdout",
     "output_type": "stream",
     "text": [
      "Checking whether field all zeros - True is bad!\n",
      "t= 0  -  False\n",
      "t= 1  -  False\n",
      "t= 2  -  False\n",
      "t= 3  -  False\n",
      "t= 4  -  False\n",
      "t= 5  -  True\n",
      "t= 6  -  True\n",
      "t= 7  -  True\n",
      "t= 8  -  True\n",
      "t= 9  -  True\n",
      "t= 10  -  True\n",
      "t= 11  -  True\n",
      "t= 12  -  True\n",
      "t= 13  -  True\n",
      "t= 14  -  True\n",
      "t= 15  -  True\n",
      "t= 16  -  True\n",
      "t= 17  -  True\n",
      "t= 18  -  True\n",
      "t= 19  -  True\n",
      "t= 20  -  True\n",
      "t= 21  -  True\n",
      "t= 22  -  True\n",
      "t= 23  -  True\n",
      "t= 24  -  True\n",
      "t= 25  -  True\n",
      "t= 26  -  True\n",
      "t= 27  -  True\n",
      "t= 28  -  True\n",
      "t= 29  -  True\n",
      "t= 30  -  True\n",
      "t= 31  -  True\n",
      "t= 32  -  True\n",
      "t= 33  -  True\n",
      "t= 34  -  True\n",
      "t= 35  -  True\n",
      "t= 36  -  True\n",
      "t= 37  -  True\n",
      "t= 38  -  True\n",
      "t= 39  -  True\n",
      "t= 40  -  True\n",
      "t= 41  -  True\n",
      "t= 42  -  True\n",
      "t= 43  -  True\n",
      "t= 44  -  True\n",
      "t= 45  -  True\n",
      "t= 46  -  True\n",
      "t= 47  -  True\n",
      "t= 48  -  True\n",
      "t= 49  -  True\n",
      "t= 50  -  True\n",
      "t= 51  -  True\n",
      "t= 52  -  True\n",
      "t= 53  -  True\n",
      "t= 54  -  True\n",
      "t= 55  -  True\n",
      "t= 56  -  True\n",
      "t= 57  -  True\n",
      "t= 58  -  True\n",
      "t= 59  -  True\n",
      "t= 60  -  True\n",
      "t= 61  -  True\n",
      "t= 62  -  True\n",
      "t= 63  -  True\n",
      "t= 64  -  True\n",
      "t= 65  -  True\n",
      "t= 66  -  True\n",
      "t= 67  -  True\n",
      "t= 68  -  True\n",
      "t= 69  -  True\n",
      "t= 70  -  True\n",
      "t= 71  -  True\n",
      "t= 72  -  True\n",
      "t= 73  -  True\n",
      "t= 74  -  True\n",
      "t= 75  -  True\n",
      "t= 76  -  True\n",
      "t= 77  -  True\n",
      "t= 78  -  True\n",
      "t= 79  -  True\n",
      "t= 80  -  True\n",
      "t= 81  -  True\n",
      "t= 82  -  True\n",
      "t= 83  -  True\n",
      "t= 84  -  True\n",
      "t= 85  -  True\n",
      "t= 86  -  True\n",
      "t= 87  -  True\n",
      "t= 88  -  True\n",
      "t= 89  -  True\n",
      "t= 90  -  True\n",
      "t= 91  -  True\n",
      "t= 92  -  True\n",
      "t= 93  -  True\n",
      "t= 94  -  True\n",
      "t= 95  -  True\n",
      "t= 96  -  True\n",
      "t= 97  -  True\n",
      "t= 98  -  True\n",
      "t= 99  -  True\n",
      "t= 100  -  True\n",
      "t= 101  -  True\n",
      "t= 102  -  True\n",
      "t= 103  -  True\n",
      "t= 104  -  True\n"
     ]
    }
   ],
   "source": [
    "print(\"Checking whether field all zeros - True is bad!\")\n",
    "\n",
    "for t in range(105):\n",
    "    print(\"t=\", t, \" - \", np.all(jhf_hr_zarr['temperature'][t,:64,:64,:64,0] == 0))"
   ]
  },
  {
   "cell_type": "markdown",
   "metadata": {},
   "source": [
    "#### Comparing Real Values"
   ]
  },
  {
   "cell_type": "code",
   "execution_count": 4,
   "metadata": {
    "execution": {
     "iopub.execute_input": "2024-12-23T20:56:54.109817Z",
     "iopub.status.busy": "2024-12-23T20:56:54.109141Z",
     "iopub.status.idle": "2024-12-23T20:56:54.152813Z",
     "shell.execute_reply": "2024-12-23T20:56:54.151206Z",
     "shell.execute_reply.started": "2024-12-23T20:56:54.109769Z"
    },
    "tags": []
   },
   "outputs": [
    {
     "data": {
      "text/plain": [
       "array([-6.5814753, -6.332371 , -6.280685 , -6.27485  , -6.2921414,\n",
       "       -6.282182 , -6.255372 , -6.216804 , -6.177907 , -6.148448 ],\n",
       "      dtype=float32)"
      ]
     },
     "execution_count": 4,
     "metadata": {},
     "output_type": "execute_result"
    }
   ],
   "source": [
    "jhf_hr_zarr['temperature'][0,:10,0,0,0]"
   ]
  },
  {
   "cell_type": "code",
   "execution_count": 38,
   "metadata": {
    "execution": {
     "iopub.execute_input": "2024-12-23T23:02:44.602773Z",
     "iopub.status.busy": "2024-12-23T23:02:44.602069Z",
     "iopub.status.idle": "2024-12-23T23:02:44.985479Z",
     "shell.execute_reply": "2024-12-23T23:02:44.983770Z",
     "shell.execute_reply.started": "2024-12-23T23:02:44.602723Z"
    },
    "tags": []
   },
   "outputs": [
    {
     "data": {
      "text/plain": [
       "array([-6.5814753, -6.332371 , -6.280685 , -6.27485  , -6.2921414,\n",
       "       -6.282182 , -6.255372 , -6.216804 , -6.177907 , -6.148448 ],\n",
       "      dtype=float32)"
      ]
     },
     "execution_count": 38,
     "metadata": {},
     "output_type": "execute_result"
    }
   ],
   "source": [
    "jhf_lr_zarr['temperature'][0,:10,0,0,0]"
   ]
  },
  {
   "cell_type": "code",
   "execution_count": 7,
   "metadata": {
    "execution": {
     "iopub.execute_input": "2024-12-23T21:14:05.678211Z",
     "iopub.status.busy": "2024-12-23T21:14:05.677452Z",
     "iopub.status.idle": "2024-12-23T21:14:06.019999Z",
     "shell.execute_reply": "2024-12-23T21:14:06.018161Z",
     "shell.execute_reply.started": "2024-12-23T21:14:05.678161Z"
    },
    "tags": []
   },
   "outputs": [
    {
     "data": {
      "text/plain": [
       "array([-6.663498 , -6.4969425, -6.4357715, -6.3522453, -6.256171 ,\n",
       "       -6.214979 , -6.1791387, -6.0816383, -5.8965683, -5.821159 ],\n",
       "      dtype=float32)"
      ]
     },
     "execution_count": 7,
     "metadata": {},
     "output_type": "execute_result"
    }
   ],
   "source": [
    "jhf_hr_zarr['temperature'][1,:10,0,0,0]"
   ]
  },
  {
   "cell_type": "code",
   "execution_count": 27,
   "metadata": {
    "execution": {
     "iopub.execute_input": "2024-12-23T22:52:35.760878Z",
     "iopub.status.busy": "2024-12-23T22:52:35.760194Z",
     "iopub.status.idle": "2024-12-23T22:53:52.383599Z",
     "shell.execute_reply": "2024-12-23T22:53:52.381668Z",
     "shell.execute_reply.started": "2024-12-23T22:52:35.760827Z"
    },
    "scrolled": true,
    "tags": []
   },
   "outputs": [
    {
     "name": "stdout",
     "output_type": "stream",
     "text": [
      "t:  0 False\n",
      "t:  1 False\n",
      "t:  2 False\n",
      "t:  3 False\n",
      "t:  4 False\n",
      "t:  5 False\n",
      "t:  6 False\n",
      "t:  7 False\n",
      "t:  8 False\n",
      "t:  9 False\n",
      "t:  10 False\n",
      "t:  11 False\n",
      "t:  12 False\n",
      "t:  13 False\n",
      "t:  14 False\n",
      "t:  15 False\n",
      "t:  16 False\n",
      "t:  17 False\n",
      "t:  18 False\n",
      "t:  19 False\n",
      "t:  20 False\n",
      "t:  21 False\n",
      "t:  22 False\n",
      "t:  23 False\n",
      "t:  24 False\n",
      "t:  25 False\n",
      "t:  26 False\n",
      "t:  27 False\n",
      "t:  28 False\n",
      "t:  29 False\n",
      "t:  30 False\n",
      "t:  31 False\n",
      "t:  32 False\n",
      "t:  33 False\n",
      "t:  34 False\n",
      "t:  35 False\n",
      "t:  36 False\n",
      "t:  37 False\n",
      "t:  38 False\n",
      "t:  39 False\n",
      "t:  40 False\n",
      "t:  41 False\n",
      "t:  42 False\n",
      "t:  43 False\n",
      "t:  44 False\n",
      "t:  45 False\n",
      "t:  46 False\n",
      "t:  47 False\n",
      "t:  48 False\n",
      "t:  49 False\n",
      "t:  50 False\n",
      "t:  51 False\n",
      "t:  52 False\n",
      "t:  53 False\n",
      "t:  54 False\n",
      "t:  55 False\n",
      "t:  56 False\n",
      "t:  57 False\n",
      "t:  58 False\n",
      "t:  59 False\n",
      "t:  60 False\n",
      "t:  61 False\n",
      "t:  62 False\n",
      "t:  63 False\n",
      "t:  64 False\n",
      "t:  65 False\n",
      "t:  66 False\n",
      "t:  67 False\n",
      "t:  68 False\n",
      "t:  69 False\n",
      "t:  70 False\n",
      "t:  71 False\n",
      "t:  72 False\n",
      "t:  73 False\n",
      "t:  74 False\n",
      "t:  75 False\n",
      "t:  76 False\n",
      "t:  77 False\n",
      "t:  78 False\n",
      "t:  79 False\n",
      "t:  80 False\n",
      "t:  81 False\n",
      "t:  82 False\n",
      "t:  83 False\n",
      "t:  84 False\n",
      "t:  85 False\n",
      "t:  86 False\n",
      "t:  87 False\n",
      "t:  88 False\n",
      "t:  89 False\n",
      "t:  90 False\n",
      "t:  91 False\n",
      "t:  92 False\n",
      "t:  93 False\n",
      "t:  94 False\n",
      "t:  95 False\n",
      "t:  96 False\n",
      "t:  97 False\n",
      "t:  98 False\n",
      "t:  99 False\n",
      "t:  100 False\n",
      "t:  101 False\n",
      "t:  102 False\n",
      "t:  103 False\n",
      "t:  104 False\n"
     ]
    }
   ],
   "source": [
    "zarr_comparison_data = jhf_hr_zarr['temperature'][0,:10,0,0,0]\n",
    "\n",
    "for t in range(105):\n",
    "    raw_t_path = f\"/home/idies/workspace/turbulence-ceph-staging/ncar-jhf/hr/jhf.{t:03d}.nc\"\n",
    "    raw_xr = xr.open_dataset(raw_t_path)\n",
    "    \n",
    "    print(\"t: \", t, np.all(zarr_comparison_data == np.array(raw_xr['t'][:10,0,0])))"
   ]
  },
  {
   "cell_type": "code",
   "execution_count": 28,
   "metadata": {
    "execution": {
     "iopub.execute_input": "2024-12-23T22:54:28.487506Z",
     "iopub.status.busy": "2024-12-23T22:54:28.486800Z",
     "iopub.status.idle": "2024-12-23T22:54:38.990877Z",
     "shell.execute_reply": "2024-12-23T22:54:38.989093Z",
     "shell.execute_reply.started": "2024-12-23T22:54:28.487455Z"
    },
    "scrolled": true,
    "tags": []
   },
   "outputs": [
    {
     "name": "stdout",
     "output_type": "stream",
     "text": [
      "t:  0 False\n",
      "t:  1 False\n",
      "t:  2 False\n",
      "t:  3 False\n",
      "t:  4 False\n",
      "t:  5 False\n",
      "t:  6 False\n",
      "t:  7 False\n",
      "t:  8 False\n",
      "t:  9 False\n",
      "t:  10 False\n",
      "t:  11 False\n",
      "t:  12 False\n",
      "t:  13 False\n",
      "t:  14 False\n",
      "t:  15 False\n",
      "t:  16 False\n",
      "t:  17 False\n",
      "t:  18 False\n",
      "t:  19 False\n",
      "t:  20 False\n",
      "t:  21 False\n",
      "t:  22 False\n",
      "t:  23 False\n",
      "t:  24 False\n",
      "t:  25 False\n",
      "t:  26 False\n",
      "t:  27 False\n",
      "t:  28 False\n",
      "t:  29 False\n",
      "t:  30 False\n",
      "t:  31 False\n",
      "t:  32 False\n",
      "t:  33 False\n",
      "t:  34 False\n",
      "t:  35 False\n",
      "t:  36 False\n",
      "t:  37 False\n",
      "t:  38 False\n",
      "t:  39 False\n",
      "t:  40 False\n",
      "t:  41 False\n",
      "t:  42 False\n",
      "t:  43 False\n",
      "t:  44 False\n",
      "t:  45 False\n",
      "t:  46 False\n",
      "t:  47 False\n",
      "t:  48 False\n",
      "t:  49 False\n",
      "t:  50 False\n",
      "t:  51 False\n",
      "t:  52 False\n",
      "t:  53 False\n",
      "t:  54 False\n",
      "t:  55 False\n",
      "t:  56 False\n",
      "t:  57 False\n",
      "t:  58 False\n",
      "t:  59 False\n",
      "t:  60 False\n",
      "t:  61 False\n",
      "t:  62 False\n",
      "t:  63 False\n",
      "t:  64 False\n",
      "t:  65 False\n",
      "t:  66 False\n",
      "t:  67 False\n",
      "t:  68 False\n",
      "t:  69 False\n",
      "t:  70 False\n",
      "t:  71 False\n",
      "t:  72 False\n",
      "t:  73 False\n",
      "t:  74 False\n",
      "t:  75 False\n",
      "t:  76 False\n",
      "t:  77 False\n",
      "t:  78 False\n",
      "t:  79 False\n",
      "t:  80 False\n",
      "t:  81 False\n",
      "t:  82 False\n",
      "t:  83 False\n",
      "t:  84 False\n",
      "t:  85 False\n",
      "t:  86 False\n",
      "t:  87 False\n",
      "t:  88 False\n",
      "t:  89 False\n",
      "t:  90 False\n",
      "t:  91 False\n",
      "t:  92 False\n",
      "t:  93 False\n",
      "t:  94 False\n",
      "t:  95 False\n",
      "t:  96 False\n",
      "t:  97 False\n",
      "t:  98 False\n",
      "t:  99 False\n",
      "t:  100 False\n",
      "t:  101 False\n",
      "t:  102 False\n",
      "t:  103 False\n",
      "t:  104 False\n"
     ]
    }
   ],
   "source": [
    "zarr_comparison_data = jhf_hr_zarr['temperature'][0,:10,0,0,0]\n",
    "\n",
    "for t in range(105):\n",
    "    raw_t_path = f\"/home/idies/workspace/turbulence-ceph-staging/ncar-jhf/hr/jhf.{t:03d}.nc\"\n",
    "    raw_xr = xr.open_dataset(raw_t_path)\n",
    "    \n",
    "    print(\"t: \", t, np.all(zarr_comparison_data == np.array(raw_xr['t'][0,0,:10])))"
   ]
  },
  {
   "cell_type": "code",
   "execution_count": 24,
   "metadata": {
    "execution": {
     "iopub.execute_input": "2024-12-23T22:45:59.791116Z",
     "iopub.status.busy": "2024-12-23T22:45:59.790472Z",
     "iopub.status.idle": "2024-12-23T22:46:00.743051Z",
     "shell.execute_reply": "2024-12-23T22:46:00.741167Z",
     "shell.execute_reply.started": "2024-12-23T22:45:59.791067Z"
    },
    "tags": []
   },
   "outputs": [
    {
     "data": {
      "text/plain": [
       "array([-7.189403 , -7.184422 , -7.1883793, -7.2159348, -7.2424674,\n",
       "       -7.2258234, -7.1829424, -7.1336718, -7.0912566, -7.081466 ],\n",
       "      dtype=float32)"
      ]
     },
     "execution_count": 24,
     "metadata": {},
     "output_type": "execute_result"
    }
   ],
   "source": [
    "np.array(jhf_hr_netcdf_t104['t'][0,0,:10])"
   ]
  },
  {
   "cell_type": "code",
   "execution_count": 15,
   "metadata": {
    "execution": {
     "iopub.execute_input": "2024-12-23T21:17:25.343039Z",
     "iopub.status.busy": "2024-12-23T21:17:25.342272Z",
     "iopub.status.idle": "2024-12-23T21:17:25.392573Z",
     "shell.execute_reply": "2024-12-23T21:17:25.390635Z",
     "shell.execute_reply.started": "2024-12-23T21:17:25.342987Z"
    },
    "tags": []
   },
   "outputs": [
    {
     "data": {
      "text/plain": [
       "array([-7.1381   , -7.139076 , -7.142978 , -7.161465 , -7.1812053,\n",
       "       -7.195337 , -7.2108417, -7.2232113, -7.226865 , -7.229301 ],\n",
       "      dtype=float32)"
      ]
     },
     "execution_count": 15,
     "metadata": {},
     "output_type": "execute_result"
    }
   ],
   "source": [
    "np.array(jhf_hr_netcdf_t1['t'][0,0,:10])"
   ]
  },
  {
   "cell_type": "code",
   "execution_count": 8,
   "metadata": {
    "execution": {
     "iopub.execute_input": "2024-12-23T21:14:36.165863Z",
     "iopub.status.busy": "2024-12-23T21:14:36.165162Z",
     "iopub.status.idle": "2024-12-23T21:14:36.243268Z",
     "shell.execute_reply": "2024-12-23T21:14:36.241458Z",
     "shell.execute_reply.started": "2024-12-23T21:14:36.165811Z"
    },
    "tags": []
   },
   "outputs": [
    {
     "data": {
      "text/plain": [
       "array([-7.1410723, -7.131884 , -7.136459 , -7.1370983, -7.149565 ,\n",
       "       -7.171342 , -7.1852684, -7.196304 , -7.211219 , -7.2230844],\n",
       "      dtype=float32)"
      ]
     },
     "execution_count": 8,
     "metadata": {},
     "output_type": "execute_result"
    }
   ],
   "source": [
    "np.array(jhf_hr_netcdf_t0['t'][0,0,:10])"
   ]
  },
  {
   "cell_type": "code",
   "execution_count": 12,
   "metadata": {
    "execution": {
     "iopub.execute_input": "2024-12-23T21:16:30.366386Z",
     "iopub.status.busy": "2024-12-23T21:16:30.365737Z",
     "iopub.status.idle": "2024-12-23T21:16:30.379449Z",
     "shell.execute_reply": "2024-12-23T21:16:30.377909Z",
     "shell.execute_reply.started": "2024-12-23T21:16:30.366337Z"
    },
    "tags": []
   },
   "outputs": [
    {
     "data": {
      "text/plain": [
       "array([-7.1410723, -7.167308 , -7.2093787, -7.230454 , -7.2217207,\n",
       "       -7.175091 , -7.1131783, -7.1049848, -7.159568 , -7.2159944],\n",
       "      dtype=float32)"
      ]
     },
     "execution_count": 12,
     "metadata": {},
     "output_type": "execute_result"
    }
   ],
   "source": [
    "np.array(jhf_hr_netcdf_t0['t'][0,:10,0])"
   ]
  },
  {
   "cell_type": "code",
   "execution_count": 6,
   "metadata": {
    "execution": {
     "iopub.execute_input": "2024-12-23T20:57:22.479768Z",
     "iopub.status.busy": "2024-12-23T20:57:22.479017Z",
     "iopub.status.idle": "2024-12-23T20:57:22.609299Z",
     "shell.execute_reply": "2024-12-23T20:57:22.607414Z",
     "shell.execute_reply.started": "2024-12-23T20:57:22.479719Z"
    },
    "tags": []
   },
   "outputs": [
    {
     "data": {
      "text/plain": [
       "array([-6.5814753, -6.593374 , -6.6495066, -6.660971 , -6.5991373,\n",
       "       -6.5511084, -6.5464263, -6.5469503, -6.568524 , -6.6024356],\n",
       "      dtype=float32)"
      ]
     },
     "execution_count": 6,
     "metadata": {},
     "output_type": "execute_result"
    }
   ],
   "source": [
    "jhf_hr_zarr['temperature'][0,0,0,:10,0]"
   ]
  },
  {
   "cell_type": "code",
   "execution_count": 11,
   "metadata": {
    "execution": {
     "iopub.execute_input": "2024-12-23T21:15:21.992078Z",
     "iopub.status.busy": "2024-12-23T21:15:21.991437Z",
     "iopub.status.idle": "2024-12-23T21:15:22.163333Z",
     "shell.execute_reply": "2024-12-23T21:15:22.161341Z",
     "shell.execute_reply.started": "2024-12-23T21:15:21.992030Z"
    },
    "tags": []
   },
   "outputs": [
    {
     "data": {
      "text/plain": [
       "array([0.01828164, 0.01951831, 0.02175151, 0.0164807 , 0.01907601,\n",
       "       0.01887238, 0.02590372, 0.03132461, 0.03639093, 0.02927056],\n",
       "      dtype=float32)"
      ]
     },
     "execution_count": 11,
     "metadata": {},
     "output_type": "execute_result"
    }
   ],
   "source": [
    "jhf_hr_zarr['energy'][0,:10,0,0,0]"
   ]
  },
  {
   "cell_type": "code",
   "execution_count": 10,
   "metadata": {
    "execution": {
     "iopub.execute_input": "2024-12-23T21:15:20.233893Z",
     "iopub.status.busy": "2024-12-23T21:15:20.233088Z",
     "iopub.status.idle": "2024-12-23T21:15:20.547134Z",
     "shell.execute_reply": "2024-12-23T21:15:20.545291Z",
     "shell.execute_reply.started": "2024-12-23T21:15:20.233843Z"
    },
    "tags": []
   },
   "outputs": [
    {
     "data": {
      "text/plain": [
       "array([0.01936376, 0.01544554, 0.01508535, 0.01503311, 0.01338829,\n",
       "       0.00952396, 0.00756552, 0.00665405, 0.00746345, 0.00694657],\n",
       "      dtype=float32)"
      ]
     },
     "execution_count": 10,
     "metadata": {},
     "output_type": "execute_result"
    }
   ],
   "source": [
    "np.array(jhf_hr_netcdf_t0['e'][:10,0,0])"
   ]
  },
  {
   "cell_type": "code",
   "execution_count": null,
   "metadata": {
    "scrolled": true,
    "tags": []
   },
   "outputs": [],
   "source": [
    "# Xarray complains about missing metadata. NOT Fixed by GPT o1\n",
    "# written_ds_xr = xr.open_dataset(stored_jhf_path, engine='zarr', consolidated=False)"
   ]
  },
  {
   "cell_type": "code",
   "execution_count": 20,
   "metadata": {
    "execution": {
     "iopub.execute_input": "2024-12-23T14:03:51.739382Z",
     "iopub.status.busy": "2024-12-23T14:03:51.738828Z",
     "iopub.status.idle": "2024-12-23T14:03:51.749610Z",
     "shell.execute_reply": "2024-12-23T14:03:51.747892Z",
     "shell.execute_reply.started": "2024-12-23T14:03:51.739339Z"
    },
    "tags": []
   },
   "outputs": [
    {
     "data": {
      "text/plain": [
       "(105, 2048, 2048, 2048, 1)"
      ]
     },
     "execution_count": 20,
     "metadata": {},
     "output_type": "execute_result"
    }
   ],
   "source": [
    "jhf_hr_zarr['energy'].shape"
   ]
  },
  {
   "cell_type": "code",
   "execution_count": 22,
   "metadata": {
    "execution": {
     "iopub.execute_input": "2024-12-23T14:04:03.562185Z",
     "iopub.status.busy": "2024-12-23T14:04:03.561611Z",
     "iopub.status.idle": "2024-12-23T14:04:03.591548Z",
     "shell.execute_reply": "2024-12-23T14:04:03.589601Z",
     "shell.execute_reply.started": "2024-12-23T14:04:03.562139Z"
    },
    "tags": []
   },
   "outputs": [
    {
     "ename": "NameError",
     "evalue": "name 'original_ds' is not defined",
     "output_type": "error",
     "traceback": [
      "\u001b[0;31m---------------------------------------------------------------------------\u001b[0m",
      "\u001b[0;31mNameError\u001b[0m                                 Traceback (most recent call last)",
      "Cell \u001b[0;32mIn [22], line 1\u001b[0m\n\u001b[0;32m----> 1\u001b[0m \u001b[43moriginal_ds\u001b[49m\u001b[38;5;241m.\u001b[39minfo\n",
      "\u001b[0;31mNameError\u001b[0m: name 'original_ds' is not defined"
     ]
    }
   ],
   "source": [
    "original_ds.info"
   ]
  },
  {
   "cell_type": "code",
   "execution_count": null,
   "metadata": {
    "tags": []
   },
   "outputs": [],
   "source": [
    "ds['velocity'][0, :10,0,0, 0]"
   ]
  },
  {
   "cell_type": "code",
   "execution_count": null,
   "metadata": {
    "tags": []
   },
   "outputs": [],
   "source": [
    "import numpy as np\n",
    "\n",
    "np.all(ds['velocity'][0, :10,0,0, 0] == 0)"
   ]
  },
  {
   "cell_type": "code",
   "execution_count": null,
   "metadata": {
    "tags": []
   },
   "outputs": [],
   "source": [
    "import numpy as np\n",
    "\n",
    "np.all(ds['velocity'][100, :10,0,0, 0] == 0)"
   ]
  },
  {
   "cell_type": "code",
   "execution_count": null,
   "metadata": {
    "tags": []
   },
   "outputs": [],
   "source": [
    "import numpy as np\n",
    "\n",
    "np.all(ds['energy'][100, :10,0,0, 0] == 0)"
   ]
  },
  {
   "cell_type": "markdown",
   "metadata": {},
   "source": [
    "### Low-Rate"
   ]
  },
  {
   "cell_type": "code",
   "execution_count": 33,
   "metadata": {
    "execution": {
     "iopub.execute_input": "2024-12-23T23:00:22.852677Z",
     "iopub.status.busy": "2024-12-23T23:00:22.851987Z",
     "iopub.status.idle": "2024-12-23T23:00:22.860643Z",
     "shell.execute_reply": "2024-12-23T23:00:22.858733Z",
     "shell.execute_reply.started": "2024-12-23T23:00:22.852626Z"
    },
    "tags": []
   },
   "outputs": [],
   "source": [
    "stored_jhf_lr_path = \"/home/idies/workspace/turbulence-ceph-staging/sciserver-turbulence/stsabl2048low/stsabl2048low.zarr\"\n",
    "raw_jhf_lr_0_path = \"/home/idies/workspace/turbulence-ceph-staging/ncar-jhf/lr/jhf.000.nc\"\n",
    "raw_jhf_lr_1_path = \"/home/idies/workspace/turbulence-ceph-staging/ncar-jhf/lr/jhf.001.nc\"\n",
    "raw_jhf_lr_19_path = \"/home/idies/workspace/turbulence-ceph-staging/ncar-jhf/lr/jhf.019.nc\""
   ]
  },
  {
   "cell_type": "code",
   "execution_count": 34,
   "metadata": {
    "execution": {
     "iopub.execute_input": "2024-12-23T23:00:26.509264Z",
     "iopub.status.busy": "2024-12-23T23:00:26.508571Z",
     "iopub.status.idle": "2024-12-23T23:00:27.251538Z",
     "shell.execute_reply": "2024-12-23T23:00:27.249489Z",
     "shell.execute_reply.started": "2024-12-23T23:00:26.509171Z"
    },
    "tags": []
   },
   "outputs": [],
   "source": [
    "import zarr\n",
    "import xarray as xr\n",
    "import numpy as np\n",
    "\n",
    "jhf_lr_zarr = zarr.open(stored_jhf_lr_path)\n",
    "jhf_lr_netcdf_t0 = xr.open_dataset(raw_jhf_lr_0_path)\n",
    "jhf_lr_netcdf_t1 = xr.open_dataset(raw_jhf_lr_1_path)\n",
    "jhf_lr_netcdf_t19 = xr.open_dataset(raw_jhf_lr_19_path)"
   ]
  },
  {
   "cell_type": "markdown",
   "metadata": {},
   "source": [
    "#### Comparing Real Values"
   ]
  },
  {
   "cell_type": "code",
   "execution_count": 35,
   "metadata": {
    "execution": {
     "iopub.execute_input": "2024-12-23T23:00:32.525738Z",
     "iopub.status.busy": "2024-12-23T23:00:32.524750Z",
     "iopub.status.idle": "2024-12-23T23:00:32.696576Z",
     "shell.execute_reply": "2024-12-23T23:00:32.694361Z",
     "shell.execute_reply.started": "2024-12-23T23:00:32.525669Z"
    }
   },
   "outputs": [
    {
     "data": {
      "text/plain": [
       "array([-6.5814753, -6.332371 , -6.280685 , -6.27485  , -6.2921414,\n",
       "       -6.282182 , -6.255372 , -6.216804 , -6.177907 , -6.148448 ],\n",
       "      dtype=float32)"
      ]
     },
     "execution_count": 35,
     "metadata": {},
     "output_type": "execute_result"
    }
   ],
   "source": [
    "jhf_lr_zarr['temperature'][0,:10,0,0,0]"
   ]
  },
  {
   "cell_type": "code",
   "execution_count": 37,
   "metadata": {
    "execution": {
     "iopub.execute_input": "2024-12-23T23:01:04.901361Z",
     "iopub.status.busy": "2024-12-23T23:01:04.900662Z",
     "iopub.status.idle": "2024-12-23T23:01:05.296743Z",
     "shell.execute_reply": "2024-12-23T23:01:05.295278Z",
     "shell.execute_reply.started": "2024-12-23T23:01:04.901308Z"
    },
    "tags": []
   },
   "outputs": [
    {
     "data": {
      "text/plain": [
       "array([-6.5814753, -6.332371 , -6.280685 , -6.27485  , -6.2921414,\n",
       "       -6.282182 , -6.255372 , -6.216804 , -6.177907 , -6.148448 ],\n",
       "      dtype=float32)"
      ]
     },
     "execution_count": 37,
     "metadata": {},
     "output_type": "execute_result"
    }
   ],
   "source": [
    "np.array(jhf_lr_netcdf_t0['t'][:10,0,0])"
   ]
  },
  {
   "cell_type": "markdown",
   "metadata": {},
   "source": [
    "### Data Statistics"
   ]
  },
  {
   "cell_type": "code",
   "execution_count": null,
   "metadata": {
    "tags": []
   },
   "outputs": [],
   "source": [
    "ds['temperature'].shape"
   ]
  },
  {
   "cell_type": "code",
   "execution_count": null,
   "metadata": {
    "tags": []
   },
   "outputs": [],
   "source": [
    "ds['temperature']"
   ]
  },
  {
   "cell_type": "code",
   "execution_count": null,
   "metadata": {
    "tags": []
   },
   "outputs": [],
   "source": [
    "xy_means = []\n",
    "\n",
    "for i in range(0, 2048, 50):\n",
    "    # Remember, nnz-nny-nnx\n",
    "    xy_means.append(ds['temperature'][0,i,:,:,0].mean())\n",
    "    \n",
    "\n",
    "from matplotlib import pyplot as plt\n",
    "\n",
    "plt.plot(list(range(0, ds['temperature'].shape[1], 50)), xy_means)\n",
    "\n",
    "plt.title(\"Mean Temperature across Z\")\n",
    "plt.xlabel(\"Slice (Z)\")\n",
    "plt.ylabel(\"Average Temperature\")"
   ]
  },
  {
   "cell_type": "code",
   "execution_count": null,
   "metadata": {
    "tags": []
   },
   "outputs": [],
   "source": [
    "from matplotlib import pyplot as plt\n",
    "\n",
    "\n",
    "xy_means_original = []\n",
    "\n",
    "for i in range(0, 2048, 50):\n",
    "    xy_means_original.append(original_ds['t'][i,:,:].mean())\n",
    "\n",
    "plt.plot(list(range(0, ds['temperature'].shape[1], 50)), xy_means_original)\n",
    "\n",
    "plt.title(\"Temperature across Z\")\n",
    "plt.xlabel(\"Slice (Z)\")\n",
    "plt.ylabel(\"Average Temperature\")"
   ]
  },
  {
   "cell_type": "code",
   "execution_count": null,
   "metadata": {
    "tags": []
   },
   "outputs": [],
   "source": [
    "yz_means = []\n",
    "\n",
    "\n",
    "for i in range(0, 2048, 50):\n",
    "    yz_means.append(ds['temperature'][0,:,:,i,0].mean())\n",
    "\n",
    "\n",
    "plt.plot(list(range(0, 2048, 50)), yz_means)\n",
    "plt.title(\"Temperature across X\")\n",
    "plt.xlabel(\"Slice (X)\")\n",
    "plt.ylabel(\"Average Temperature\")"
   ]
  },
  {
   "cell_type": "code",
   "execution_count": null,
   "metadata": {
    "tags": []
   },
   "outputs": [],
   "source": [
    "yz_means_original = []\n",
    "\n",
    "for i in range(0, 2048, 50):\n",
    "    yz_means_original.append(original_ds['t'][:,:,i].mean())\n",
    "\n",
    "\n",
    "plt.plot(list(range(0, 2048, 50)), yz_means_original)\n",
    "plt.title(\"Temperature across X\")\n",
    "plt.xlabel(\"Slice (X)\")\n",
    "plt.ylabel(\"Average Temperature\")"
   ]
  },
  {
   "cell_type": "markdown",
   "metadata": {},
   "source": [
    "### Slice Plotting\n",
    "\n",
    "This can take a few minutes"
   ]
  },
  {
   "cell_type": "markdown",
   "metadata": {},
   "source": [
    "### Sciserver doesn't allow localhost connections, so can't use Dask Cluster console"
   ]
  },
  {
   "cell_type": "code",
   "execution_count": null,
   "metadata": {
    "tags": []
   },
   "outputs": [],
   "source": [
    "import zarr\n",
    "import dask.array as da\n",
    "import matplotlib.pyplot as plt\n",
    "from dask import compute\n",
    "from dask.diagnostics import ProgressBar\n",
    "\n",
    "# Open the Zarr group\n",
    "store = zarr.open_group(stored_jhf_path, mode='r')\n",
    "\n",
    "# Create Dask arrays\n",
    "data_arrays = {}\n",
    "variables = list(store.array_keys())\n",
    "for var_name in variables:\n",
    "    zarr_array = store[var_name]\n",
    "    dask_array = da.from_zarr(zarr_array)\n",
    "    # Squeeze scalar variables\n",
    "    if dask_array.shape[-1] == 1:\n",
    "        dask_array = dask_array.squeeze(axis=-1)\n",
    "    data_arrays[var_name] = dask_array\n",
    "\n",
    "# Function to collect data slices\n",
    "def collect_data_slices(data_arrays, variables, timesteps):\n",
    "    data_slices = []\n",
    "    titles = []\n",
    "    for variable in variables:\n",
    "        for timestep in timesteps:\n",
    "            dask_array = data_arrays[variable]\n",
    "            \n",
    "            # Get slices along each dimension\n",
    "            x_slice = dask_array[timestep, :, :, 0]\n",
    "            y_slice = dask_array[timestep, :, 0, :]\n",
    "            z_slice = dask_array[timestep, 0, :, :]\n",
    "            \n",
    "            # For vector variables, handle components\n",
    "            if variable == 'velocity':\n",
    "                for component in range(3):\n",
    "                    x_comp_slice = x_slice[..., component]\n",
    "                    y_comp_slice = y_slice[..., component]\n",
    "                    z_comp_slice = z_slice[..., component]\n",
    "                    \n",
    "                    data_slices.extend([x_comp_slice, y_comp_slice, z_comp_slice])\n",
    "                    titles.extend([\n",
    "                        f\"{variable} (component {component}) nnx=0 Timestep={timestep}\",\n",
    "                        f\"{variable} (component {component}) nny=0 Timestep={timestep}\",\n",
    "                        f\"{variable} (component {component}) nnz=0 Timestep={timestep}\"\n",
    "                    ])\n",
    "            else:\n",
    "                data_slices.extend([x_slice, y_slice, z_slice])\n",
    "                titles.extend([\n",
    "                    f\"{variable} nnx=0 Timestep={timestep}\",\n",
    "                    f\"{variable} nny=0 Timestep={timestep}\",\n",
    "                    f\"{variable} nnz=0 Timestep={timestep}\"\n",
    "                ])\n",
    "    return data_slices, titles\n",
    "\n",
    "# Variables and timesteps\n",
    "variables = ['energy', 'temperature', 'pressure', 'velocity']\n",
    "timesteps = range(0, data_arrays['energy'].shape[0], 5)  # Every 5th timestep\n",
    "\n",
    "# Collect data slices\n",
    "data_slices, titles = collect_data_slices(data_arrays, variables, timesteps)\n",
    "\n",
    "# Compute all data slices at once\n",
    "with ProgressBar():\n",
    "    computed_slices = compute(*data_slices)\n",
    "\n",
    "# Plot all images\n",
    "for data, title in zip(computed_slices, titles):\n",
    "    plt.figure()\n",
    "    plt.imshow(data)\n",
    "    plt.title(title)\n",
    "    plt.gca().invert_yaxis()\n",
    "    plt.colorbar()\n",
    "    plt.show()\n"
   ]
  },
  {
   "cell_type": "code",
   "execution_count": null,
   "metadata": {
    "tags": []
   },
   "outputs": [],
   "source": [
    "from matplotlib import pyplot as plt\n",
    "\n",
    "def plot_along_3_dimensions(ds, variable, plot_component=0, timestep = 0):\n",
    "    plt.figure()\n",
    "    plt.imshow(ds[variable][timestep,:,:, 0, plot_component])\n",
    "    plt.title(variable + \" X=1 + Timestep = \" + str(timestep))\n",
    "    plt.gca().invert_yaxis()\n",
    "    plt.colorbar()\n",
    "    \n",
    "    \n",
    "    plt.figure()\n",
    "    plt.imshow(ds[variable][timestep,:,0, :, plot_component])\n",
    "    plt.title(variable + \" Y=1 + Timestep = \" + str(timestep))\n",
    "    plt.gca().invert_yaxis()\n",
    "    plt.colorbar()\n",
    "\n",
    "    \n",
    "    plt.figure()\n",
    "    plt.imshow(ds[variable][timestep,0,:, :, plot_component])\n",
    "    plt.title(variable + \" Z=1 + Timestep = \" + str(timestep))\n",
    "    plt.gca().invert_yaxis()\n",
    "    plt.colorbar()"
   ]
  },
  {
   "cell_type": "code",
   "execution_count": null,
   "metadata": {
    "tags": []
   },
   "outputs": [],
   "source": [
    "plt.rcParams['image.cmap'] = 'inferno'"
   ]
  },
  {
   "cell_type": "markdown",
   "metadata": {},
   "source": [
    "### Checking if write has finished - timestep 19"
   ]
  },
  {
   "cell_type": "code",
   "execution_count": null,
   "metadata": {
    "tags": []
   },
   "outputs": [],
   "source": [
    "ds = ds_zarr"
   ]
  },
  {
   "cell_type": "code",
   "execution_count": null,
   "metadata": {
    "tags": []
   },
   "outputs": [],
   "source": [
    "ds['energy'].info"
   ]
  },
  {
   "cell_type": "code",
   "execution_count": null,
   "metadata": {
    "tags": []
   },
   "outputs": [],
   "source": [
    "ds['energy'][15,:-10,0,0, 0]"
   ]
  },
  {
   "cell_type": "code",
   "execution_count": null,
   "metadata": {
    "tags": []
   },
   "outputs": [],
   "source": [
    "variable = \"energy\"\n",
    "timestep = 0"
   ]
  },
  {
   "cell_type": "code",
   "execution_count": null,
   "metadata": {
    "tags": []
   },
   "outputs": [],
   "source": [
    "plot_along_3_dimensions(ds, variable, plot_component=0, timestep = timestep)"
   ]
  },
  {
   "cell_type": "code",
   "execution_count": null,
   "metadata": {
    "tags": []
   },
   "outputs": [],
   "source": [
    "plot_along_3_dimensions(ds, variable=\"pressure\", plot_component=0, timestep = timestep)"
   ]
  },
  {
   "cell_type": "code",
   "execution_count": null,
   "metadata": {},
   "outputs": [],
   "source": [
    "plot_along_3_dimensions(ds, variable=\"temperature\", plot_component=0, timestep = timestep)"
   ]
  },
  {
   "cell_type": "code",
   "execution_count": null,
   "metadata": {},
   "outputs": [],
   "source": [
    "plot_along_3_dimensions(ds, variable=\"velocity\", plot_component=0, timestep = timestep)"
   ]
  },
  {
   "cell_type": "code",
   "execution_count": null,
   "metadata": {},
   "outputs": [],
   "source": [
    "plot_along_3_dimensions(ds, variable=\"velocity\", plot_component=1, timestep = timestep)"
   ]
  },
  {
   "cell_type": "code",
   "execution_count": null,
   "metadata": {},
   "outputs": [],
   "source": [
    "plot_along_3_dimensions(ds, variable=\"velocity\", plot_component=2, timestep = timestep)"
   ]
  },
  {
   "cell_type": "code",
   "execution_count": null,
   "metadata": {},
   "outputs": [],
   "source": [
    "timestep = 1"
   ]
  },
  {
   "cell_type": "code",
   "execution_count": null,
   "metadata": {},
   "outputs": [],
   "source": [
    "plot_along_3_dimensions(ds, variable='energy', plot_component=0, timestep = timestep)"
   ]
  },
  {
   "cell_type": "code",
   "execution_count": null,
   "metadata": {},
   "outputs": [],
   "source": [
    "plot_along_3_dimensions(ds, variable=\"pressure\", plot_component=0, timestep = timestep)"
   ]
  },
  {
   "cell_type": "code",
   "execution_count": null,
   "metadata": {},
   "outputs": [],
   "source": [
    "plot_along_3_dimensions(ds, variable=\"temperature\", plot_component=0, timestep = timestep)"
   ]
  },
  {
   "cell_type": "code",
   "execution_count": null,
   "metadata": {},
   "outputs": [],
   "source": [
    "plot_along_3_dimensions(ds, variable=\"velocity\", plot_component=0, timestep = timestep)"
   ]
  },
  {
   "cell_type": "code",
   "execution_count": null,
   "metadata": {},
   "outputs": [],
   "source": [
    "plot_along_3_dimensions(ds, variable=\"velocity\", plot_component=1, timestep = timestep)"
   ]
  },
  {
   "cell_type": "code",
   "execution_count": null,
   "metadata": {},
   "outputs": [],
   "source": [
    "plot_along_3_dimensions(ds, variable=\"velocity\", plot_component=2, timestep = timestep)"
   ]
  },
  {
   "cell_type": "code",
   "execution_count": null,
   "metadata": {},
   "outputs": [],
   "source": [
    "import dask.array as da"
   ]
  },
  {
   "cell_type": "code",
   "execution_count": null,
   "metadata": {
    "tags": []
   },
   "outputs": [],
   "source": [
    "da.equal(ds['energy'][0,:,:, 0, 0], original_ds['e'][:,:,0])"
   ]
  },
  {
   "cell_type": "code",
   "execution_count": null,
   "metadata": {
    "tags": []
   },
   "outputs": [],
   "source": [
    "from matplotlib import pyplot as plt\n",
    "\n",
    "plt.imshow(ds['energy'][0,:,0, :, 0])\n",
    "plt.title(\"Y=1\")\n",
    "plt.gca().invert_yaxis()\n",
    "plt.colorbar()"
   ]
  },
  {
   "cell_type": "code",
   "execution_count": null,
   "metadata": {
    "tags": []
   },
   "outputs": [],
   "source": [
    "plt.imshow(ds['energy'][0,0,:, :, 0])\n",
    "plt.title(\"Z=1\")\n",
    "plt.gca().invert_yaxis()\n",
    "plt.colorbar()"
   ]
  },
  {
   "cell_type": "code",
   "execution_count": null,
   "metadata": {
    "tags": []
   },
   "outputs": [],
   "source": [
    "plot_along_3_dimensions(ds, 'pressure')"
   ]
  },
  {
   "cell_type": "code",
   "execution_count": null,
   "metadata": {
    "tags": []
   },
   "outputs": [],
   "source": [
    "plot_along_3_dimensions(ds, 'temperature')"
   ]
  },
  {
   "cell_type": "code",
   "execution_count": null,
   "metadata": {
    "tags": []
   },
   "outputs": [],
   "source": [
    "# Original data\n",
    "plt.imshow(original_ds['t'][:, :, 0], cmap=\"inferno\")\n",
    "plt.gca().invert_yaxis()  # Invert the y-axis to place 0 at the bottom\n",
    "\n",
    "plt.title(\"Temperature at t=1, Low-rate, X=1\")\n",
    "# plt.xlabel(\"X\")\n",
    "# plt.ylabel(\"Y\")\n",
    "\n",
    "plt.colorbar()\n",
    "plt.show()"
   ]
  },
  {
   "cell_type": "code",
   "execution_count": null,
   "metadata": {
    "tags": []
   },
   "outputs": [],
   "source": [
    "# Original data\n",
    "plt.imshow(original_ds['t'][:, 0, :], cmap=\"inferno\")\n",
    "plt.gca().invert_yaxis()  # Invert the y-axis to place 0 at the bottom\n",
    "\n",
    "plt.title(\"Temperature at t=1, Low-rate, Y=1\")\n",
    "plt.xlabel(\"X\")\n",
    "plt.ylabel(\"Z\")\n",
    "\n",
    "plt.colorbar()\n",
    "plt.show()"
   ]
  },
  {
   "cell_type": "markdown",
   "metadata": {},
   "source": [
    "## Velocity u"
   ]
  },
  {
   "cell_type": "code",
   "execution_count": null,
   "metadata": {
    "tags": []
   },
   "outputs": [],
   "source": [
    "plot_along_3_dimensions(ds, 'velocity', 0)"
   ]
  },
  {
   "cell_type": "code",
   "execution_count": null,
   "metadata": {},
   "outputs": [],
   "source": [
    "# Original data\n",
    "plt.imshow(original_ds['u'][0, :, :], cmap=\"inferno\")\n",
    "plt.gca().invert_yaxis()  # Invert the y-axis to place 0 at the bottom\n",
    "\n",
    "plt.title(\"u at t=1, Low-rate, Z=1\")\n",
    "plt.xlabel(\"X\")\n",
    "plt.ylabel(\"Y\")\n",
    "\n",
    "plt.colorbar()\n",
    "plt.show()"
   ]
  },
  {
   "cell_type": "code",
   "execution_count": null,
   "metadata": {
    "tags": []
   },
   "outputs": [],
   "source": [
    "# Original data\n",
    "plt.imshow(original_ds['u'][:, :, 0], cmap=\"inferno\")\n",
    "plt.gca().invert_yaxis()  # Invert the y-axis to place 0 at the bottom\n",
    "\n",
    "plt.title(\"u at t=1, Low-rate, X=1\")\n",
    "plt.xlabel(\"X\")\n",
    "plt.ylabel(\"Y\")\n",
    "\n",
    "plt.colorbar()\n",
    "plt.show()"
   ]
  },
  {
   "cell_type": "code",
   "execution_count": null,
   "metadata": {},
   "outputs": [],
   "source": [
    "# Original data\n",
    "plt.imshow(original_ds['u'][:, 0, :], cmap=\"inferno\")\n",
    "plt.gca().invert_yaxis()  # Invert the y-axis to place 0 at the bottom\n",
    "\n",
    "plt.title(\"u at t=1, Low-rate, Y=1\")\n",
    "plt.xlabel(\"X\")\n",
    "plt.ylabel(\"Y\")\n",
    "\n",
    "plt.colorbar()\n",
    "plt.show()"
   ]
  },
  {
   "cell_type": "markdown",
   "metadata": {},
   "source": [
    "## Velocity v"
   ]
  },
  {
   "cell_type": "code",
   "execution_count": null,
   "metadata": {},
   "outputs": [],
   "source": [
    "plot_along_3_dimensions(ds, 'velocity', 1)"
   ]
  },
  {
   "cell_type": "markdown",
   "metadata": {},
   "source": [
    "## Velocity w"
   ]
  },
  {
   "cell_type": "code",
   "execution_count": null,
   "metadata": {},
   "outputs": [],
   "source": [
    "plot_along_3_dimensions(ds, 'velocity', 2)"
   ]
  },
  {
   "cell_type": "code",
   "execution_count": null,
   "metadata": {},
   "outputs": [],
   "source": []
  }
 ],
 "metadata": {
  "kernelspec": {
   "display_name": "Python 3.9 (py39)",
   "language": "python",
   "name": "py39"
  },
  "language_info": {
   "codemirror_mode": {
    "name": "ipython",
    "version": 3
   },
   "file_extension": ".py",
   "mimetype": "text/x-python",
   "name": "python",
   "nbconvert_exporter": "python",
   "pygments_lexer": "ipython3",
   "version": "3.9.13"
  }
 },
 "nbformat": 4,
 "nbformat_minor": 4
}
