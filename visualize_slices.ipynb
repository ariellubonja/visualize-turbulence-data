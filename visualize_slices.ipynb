{
 "cells": [
  {
   "cell_type": "markdown",
   "metadata": {},
   "source": [
    "Code used to sanity-check data: plotting raw and written files, calculating various statistics"
   ]
  },
  {
   "cell_type": "markdown",
   "metadata": {
    "jp-MarkdownHeadingCollapsed": true,
    "tags": [],
    "toc-hr-collapsed": true
   },
   "source": [
    "# JHD (First NCAR dataset) Plot NetCDF Raw data"
   ]
  },
  {
   "cell_type": "markdown",
   "metadata": {
    "jp-MarkdownHeadingCollapsed": true,
    "tags": []
   },
   "source": [
    "### Setup"
   ]
  },
  {
   "cell_type": "code",
   "execution_count": null,
   "metadata": {
    "tags": []
   },
   "outputs": [],
   "source": [
    "import zarr\n",
    "import matplotlib.pyplot as plt\n",
    "import numpy as np\n",
    "import xarray as xr\n",
    "\n",
    "import os"
   ]
  },
  {
   "cell_type": "code",
   "execution_count": null,
   "metadata": {
    "tags": []
   },
   "outputs": [],
   "source": [
    "# %matplotlib widget"
   ]
  },
  {
   "cell_type": "code",
   "execution_count": null,
   "metadata": {
    "tags": []
   },
   "outputs": [],
   "source": [
    "# raw_ncar_folder_path = '/home/idies/workspace/turb/data02_02/ncar-low-rate-fixed-dt/'\n",
    "raw_ncar_folder_path = '/home/idies/workspace/turbulence-ceph-staging/ncar-jhf/lr'\n",
    "save_folder_path = '/home/idies/workspace/Storage/ariel4/persistent/ncar-zarr-code/zarr_reading/visualizations/'\n",
    "\n",
    "chunk_size=64\n",
    "\n",
    "\n",
    "var = 'e'\n",
    "variable = var\n",
    "\n",
    "# timestep_range = range(5) # This will definitely crash the Kernel\n",
    "timestep_nr = 0"
   ]
  },
  {
   "cell_type": "code",
   "execution_count": null,
   "metadata": {
    "tags": []
   },
   "outputs": [],
   "source": [
    "# needed for sciserver jobs\n",
    "%cd /home/idies/workspace/Storage/ariel4/persistent/zarrify-across-network"
   ]
  },
  {
   "cell_type": "code",
   "execution_count": null,
   "metadata": {
    "tags": []
   },
   "outputs": [],
   "source": [
    "# for timestep_nr in timestep_range:\n",
    "#     data = xr.open_dataset(raw_ncar_folder_path + \"/jhd.00\" + str(timestep_nr) + \".nc\")\n",
    "\n",
    "\n",
    "data_xr = xr.open_dataset(raw_ncar_folder_path + \"/jhf.\" + str(timestep_nr).zfill(3) + \".nc\", chunks={'nnz': chunk_size, 'nny': chunk_size, 'nnx': chunk_size})"
   ]
  },
  {
   "cell_type": "code",
   "execution_count": null,
   "metadata": {
    "tags": []
   },
   "outputs": [],
   "source": [
    "steps = range(0, data_xr['t'].shape[2], 10)\n",
    "\n",
    "# for i, z in enumerate(z_steps):\n",
    "#     print(i,z)"
   ]
  },
  {
   "cell_type": "markdown",
   "metadata": {},
   "source": [
    "### Read Access Time Results\n",
    "\n",
    "3min 45s +- 4min(!) to load Array `np.array(data[var])`\n",
    "\n",
    "33.3s to plot using in-memory numpy array (from above)\n",
    "\n",
    "14min 17s +- 6min for loading data using `data_xr[var][slice]` every time\n",
    "\n",
    "Skipping the np.array loading takes wayyy too long (>1h for 7 runs atm)\n",
    "\n",
    "<font color=\"red\">Use `np.array(data_xr['e'].isel(nnz=z_indices, nny=slice(None), nnx=slice(None)))`!! Only 15sec!</font>"
   ]
  },
  {
   "cell_type": "markdown",
   "metadata": {
    "jp-MarkdownHeadingCollapsed": true,
    "tags": []
   },
   "source": [
    "### Plotting"
   ]
  },
  {
   "cell_type": "code",
   "execution_count": null,
   "metadata": {
    "tags": []
   },
   "outputs": [],
   "source": [
    "# TODO make this into a function\n",
    "\n",
    "z_indices = [0]\n",
    "x_indices = [0]\n",
    "# z_indices = [2047]\n",
    "z = 0\n",
    "\n",
    "# Change this to slice along a different axis\n",
    "# slice_data = np.array(data_xr[var].isel(nnz=z_indices, nny=slice(None), nnx=slice(None)))\n",
    "# Load only 512x512\n",
    "# slice_data = np.array(data_xr[var].isel(nnz=z_indices, nny=slice(0, 512), nnx=slice(0, 512)))\n",
    "slice_data = np.array(data_xr[var].isel(nnz=slice(0, 512), nny=slice(0, 512), nnx=z_indices))\n",
    "\n",
    "slice_data = np.squeeze(slice_data)"
   ]
  },
  {
   "cell_type": "code",
   "execution_count": null,
   "metadata": {
    "tags": []
   },
   "outputs": [],
   "source": [
    "slice_data.shape"
   ]
  },
  {
   "cell_type": "code",
   "execution_count": null,
   "metadata": {},
   "outputs": [],
   "source": [
    "# slice_data = slice_data[:512, :512]"
   ]
  },
  {
   "cell_type": "code",
   "execution_count": null,
   "metadata": {
    "tags": []
   },
   "outputs": [],
   "source": [
    "plt.figure(figsize=(10,10))\n",
    "plt.imshow(slice_data)#, cmap='gist_gray')#, vmin=-.5, vmax=.6)\n",
    "\n",
    "#     name = \"[z,y=\" +str(y) + \",x]\" # y\n",
    "# name = \"Timestep = \", timestep_nr, \", Var = \", var, \"[z=\" +str(z) + \",y,x]\" # z\n",
    "name = \"Timestep = \", timestep_nr, \", Var = \", var, \"[z,y,x=\" +str(z) + \"]\" # x\n",
    "\n",
    "plt.title(name, fontsize=20)\n",
    "plt.colorbar()\n",
    "\n",
    "# Save figures to disk\n",
    "# plt.savefig(f'visualizations/timestep_' + str(timestep_nr) + '/' + var + \"/\" + name + '.png')\n",
    "# plt.close()"
   ]
  },
  {
   "cell_type": "code",
   "execution_count": null,
   "metadata": {
    "tags": []
   },
   "outputs": [],
   "source": [
    "# TODO make this into a function\n",
    "var = 'u'\n",
    "\n",
    "z_indices = [0]\n",
    "x_indices = [0]\n",
    "# z_indices = [2047]\n",
    "z = 0\n",
    "\n",
    "# Change this to slice along a different axis\n",
    "# slice_data = np.array(data_xr[var].isel(nnz=z_indices, nny=slice(None), nnx=slice(None)))\n",
    "# Load only 512x512\n",
    "# slice_data = np.array(data_xr[var].isel(nnz=z_indices, nny=slice(0, 512), nnx=slice(0, 512)))\n",
    "slice_data = np.array(data_xr[var].isel(nnz=slice(0, 512), nny=slice(0, 512), nnx=z_indices))\n",
    "\n",
    "slice_data = np.squeeze(slice_data)\n",
    "\n",
    "\n",
    "plt.figure(figsize=(10,10))\n",
    "plt.imshow(slice_data)#, cmap='gist_gray')#, vmin=-.5, vmax=.6)\n",
    "\n",
    "#     name = \"[z,y=\" +str(y) + \",x]\" # y\n",
    "# name = \"Timestep = \", timestep_nr, \", Var = \", var, \"[z=\" +str(z) + \",y,x]\" # z\n",
    "name = \"Timestep = \", timestep_nr, \", Var = \", var, \"[z,y,x=\" +str(z) + \"]\" # x\n",
    "\n",
    "plt.title(name, fontsize=20)\n",
    "plt.colorbar()\n",
    "\n",
    "# Save figures to disk\n",
    "# plt.savefig(f'visualizations/timestep_' + str(timestep_nr) + '/' + var + \"/\" + name + '.png')\n",
    "# plt.close()"
   ]
  },
  {
   "cell_type": "code",
   "execution_count": null,
   "metadata": {
    "tags": []
   },
   "outputs": [],
   "source": [
    "# TODO make this into a function\n",
    "var = 'v'\n",
    "\n",
    "z_indices = [0]\n",
    "x_indices = [0]\n",
    "# z_indices = [2047]\n",
    "z = 0\n",
    "\n",
    "# Change this to slice along a different axis\n",
    "# slice_data = np.array(data_xr[var].isel(nnz=z_indices, nny=slice(None), nnx=slice(None)))\n",
    "# Load only 512x512\n",
    "# slice_data = np.array(data_xr[var].isel(nnz=z_indices, nny=slice(0, 512), nnx=slice(0, 512)))\n",
    "slice_data = np.array(data_xr[var].isel(nnz=slice(0, 512), nny=slice(0, 512), nnx=z_indices))\n",
    "\n",
    "slice_data = np.squeeze(slice_data)\n",
    "\n",
    "\n",
    "plt.figure(figsize=(10,10))\n",
    "plt.imshow(slice_data)#, cmap='gist_gray')#, vmin=-.5, vmax=.6)\n",
    "\n",
    "#     name = \"[z,y=\" +str(y) + \",x]\" # y\n",
    "# name = \"Timestep = \", timestep_nr, \", Var = \", var, \"[z=\" +str(z) + \",y,x]\" # z\n",
    "name = \"Timestep = \", timestep_nr, \", Var = \", var, \"[z,y,x=\" +str(z) + \"]\" # x\n",
    "\n",
    "plt.title(name, fontsize=20)\n",
    "plt.colorbar()\n",
    "\n",
    "# Save figures to disk\n",
    "# plt.savefig(f'visualizations/timestep_' + str(timestep_nr) + '/' + var + \"/\" + name + '.png')\n",
    "# plt.close()"
   ]
  },
  {
   "cell_type": "code",
   "execution_count": null,
   "metadata": {
    "tags": []
   },
   "outputs": [],
   "source": [
    "# TODO make this into a function\n",
    "var = 'w'\n",
    "\n",
    "z_indices = [0]\n",
    "x_indices = [0]\n",
    "# z_indices = [2047]\n",
    "z = 0\n",
    "\n",
    "# Change this to slice along a different axis\n",
    "# slice_data = np.array(data_xr[var].isel(nnz=z_indices, nny=slice(None), nnx=slice(None)))\n",
    "# Load only 512x512\n",
    "# slice_data = np.array(data_xr[var].isel(nnz=z_indices, nny=slice(0, 512), nnx=slice(0, 512)))\n",
    "slice_data = np.array(data_xr[var].isel(nnz=slice(0, 512), nny=slice(0, 512), nnx=z_indices))\n",
    "\n",
    "slice_data = np.squeeze(slice_data)\n",
    "\n",
    "\n",
    "plt.figure(figsize=(10,10))\n",
    "plt.imshow(slice_data)#, cmap='gist_gray')#, vmin=-.5, vmax=.6)\n",
    "\n",
    "#     name = \"[z,y=\" +str(y) + \",x]\" # y\n",
    "# name = \"Timestep = \", timestep_nr, \", Var = \", var, \"[z=\" +str(z) + \",y,x]\" # z\n",
    "name = \"Timestep = \", timestep_nr, \", Var = \", var, \"[z,y,x=\" +str(z) + \"]\" # x\n",
    "\n",
    "plt.title(name, fontsize=20)\n",
    "plt.colorbar()\n",
    "\n",
    "# Save figures to disk\n",
    "# plt.savefig(f'visualizations/timestep_' + str(timestep_nr) + '/' + var + \"/\" + name + '.png')\n",
    "# plt.close()"
   ]
  },
  {
   "cell_type": "code",
   "execution_count": null,
   "metadata": {},
   "outputs": [],
   "source": [
    "# TODO make this into a function\n",
    "var = 't'\n",
    "\n",
    "z_indices = [0]\n",
    "x_indices = [0]\n",
    "# z_indices = [2047]\n",
    "z = 0\n",
    "\n",
    "# Change this to slice along a different axis\n",
    "# slice_data = np.array(data_xr[var].isel(nnz=z_indices, nny=slice(None), nnx=slice(None)))\n",
    "# Load only 512x512\n",
    "# slice_data = np.array(data_xr[var].isel(nnz=z_indices, nny=slice(0, 512), nnx=slice(0, 512)))\n",
    "slice_data = np.array(data_xr[var].isel(nnz=slice(0, 512), nny=slice(0, 512), nnx=z_indices))\n",
    "\n",
    "slice_data = np.squeeze(slice_data)\n",
    "\n",
    "\n",
    "plt.figure(figsize=(10,10))\n",
    "plt.imshow(slice_data)#, cmap='gist_gray')#, vmin=-.5, vmax=.6)\n",
    "\n",
    "#     name = \"[z,y=\" +str(y) + \",x]\" # y\n",
    "# name = \"Timestep = \", timestep_nr, \", Var = \", var, \"[z=\" +str(z) + \",y,x]\" # z\n",
    "name = \"Timestep = \", timestep_nr, \", Var = \", var, \"[z,y,x=\" +str(z) + \"]\" # x\n",
    "\n",
    "plt.title(name, fontsize=20)\n",
    "plt.colorbar()\n",
    "\n",
    "# Save figures to disk\n",
    "# plt.savefig(f'visualizations/timestep_' + str(timestep_nr) + '/' + var + \"/\" + name + '.png')\n",
    "# plt.close()"
   ]
  },
  {
   "cell_type": "markdown",
   "metadata": {},
   "source": [
    "# Visually Verify Newer NCAR StSABL (jhf)"
   ]
  },
  {
   "cell_type": "markdown",
   "metadata": {},
   "source": [
    "<font color='cyan'>\n",
    "\n",
    "## Remember, index is nnz-nny-nnx. first dim is Z\n",
    "    \n",
    "</font>"
   ]
  },
  {
   "cell_type": "markdown",
   "metadata": {
    "jp-MarkdownHeadingCollapsed": true,
    "tags": []
   },
   "source": [
    "# Quick-Verify Correctness of data\n",
    "\n",
    "1. Check if `data == 0`\n",
    "\n",
    "2. Pick one $64^3$ chunk and compare it to raw NetCDF"
   ]
  },
  {
   "cell_type": "markdown",
   "metadata": {},
   "source": [
    "### High-Rate"
   ]
  },
  {
   "cell_type": "code",
   "execution_count": null,
   "metadata": {
    "tags": []
   },
   "outputs": [],
   "source": [
    "stored_jhf_hr_path = \"/home/idies/workspace/turbulence-ceph-staging/sciserver-turbulence/stsabl2048high/stsabl2048high.zarr\"\n",
    "raw_jhf_hr_0_path = \"/home/idies/workspace/turbulence-ceph-staging/ncar-jhf/hr/jhf.000.nc\"\n",
    "raw_jhf_hr_1_path = \"/home/idies/workspace/turbulence-ceph-staging/ncar-jhf/hr/jhf.001.nc\"\n",
    "raw_jhf_hr_104_path = \"/home/idies/workspace/turbulence-ceph-staging/ncar-jhf/hr/jhf.104.nc\""
   ]
  },
  {
   "cell_type": "code",
   "execution_count": null,
   "metadata": {
    "tags": []
   },
   "outputs": [],
   "source": [
    "import zarr\n",
    "import xarray as xr\n",
    "import numpy as np\n",
    "\n",
    "jhf_hr_zarr = zarr.open(stored_jhf_hr_path)\n",
    "jhf_hr_netcdf_t0 = xr.open_dataset(raw_jhf_hr_0_path)\n",
    "jhf_hr_netcdf_t1 = xr.open_dataset(raw_jhf_hr_1_path)\n",
    "jhf_hr_netcdf_t104 = xr.open_dataset(raw_jhf_hr_104_path)"
   ]
  },
  {
   "cell_type": "markdown",
   "metadata": {
    "jp-MarkdownHeadingCollapsed": true,
    "tags": []
   },
   "source": [
    "#### `zarr.info`"
   ]
  },
  {
   "cell_type": "code",
   "execution_count": null,
   "metadata": {
    "tags": []
   },
   "outputs": [],
   "source": [
    "jhf_hr_zarr"
   ]
  },
  {
   "cell_type": "code",
   "execution_count": null,
   "metadata": {
    "tags": []
   },
   "outputs": [],
   "source": [
    "jhf_hr_zarr['energy'].info"
   ]
  },
  {
   "cell_type": "code",
   "execution_count": null,
   "metadata": {
    "tags": []
   },
   "outputs": [],
   "source": [
    "jhf_hr_zarr['velocity'].info"
   ]
  },
  {
   "cell_type": "code",
   "execution_count": null,
   "metadata": {
    "tags": []
   },
   "outputs": [],
   "source": [
    "jhf_hr_zarr.info"
   ]
  },
  {
   "cell_type": "markdown",
   "metadata": {
    "tags": []
   },
   "source": [
    "#### Indexing, Compare to 0"
   ]
  },
  {
   "cell_type": "code",
   "execution_count": null,
   "metadata": {
    "tags": []
   },
   "outputs": [],
   "source": [
    "print(\"Checking whether field all zeros - True is bad!\")\n",
    "\n",
    "for t in range(105):\n",
    "    print(\"t=\", t, \" - \", np.all(jhf_hr_zarr['temperature'][t,:64,:64,:64,0] == 0))"
   ]
  },
  {
   "cell_type": "markdown",
   "metadata": {},
   "source": [
    "#### Comparing Real Values"
   ]
  },
  {
   "cell_type": "code",
   "execution_count": null,
   "metadata": {
    "tags": []
   },
   "outputs": [],
   "source": [
    "jhf_hr_zarr['temperature'][0,:10,0,0,0]"
   ]
  },
  {
   "cell_type": "code",
   "execution_count": null,
   "metadata": {
    "tags": []
   },
   "outputs": [],
   "source": [
    "jhf_lr_zarr['temperature'][0,:10,0,0,0]"
   ]
  },
  {
   "cell_type": "code",
   "execution_count": null,
   "metadata": {
    "tags": []
   },
   "outputs": [],
   "source": [
    "jhf_hr_zarr['temperature'][1,:10,0,0,0]"
   ]
  },
  {
   "cell_type": "code",
   "execution_count": 10,
   "metadata": {
    "execution": {
     "iopub.status.idle": "2025-01-15T14:50:41.857673Z",
     "shell.execute_reply": "2025-01-15T14:50:41.857091Z",
     "shell.execute_reply.started": "2025-01-15T14:44:20.357009Z"
    },
    "tags": []
   },
   "outputs": [
    {
     "name": "stdout",
     "output_type": "stream",
     "text": [
      "t:  97 True\n",
      "t:  98 True\n",
      "t:  99 True\n",
      "t:  100 True\n",
      "t:  101 True\n",
      "t:  102 True\n",
      "t:  103 True\n",
      "t:  104 True\n"
     ]
    }
   ],
   "source": [
    "for t in range(93, 105):\n",
    "    zarr_comparison_data = jhf_hr_zarr['temperature'][t,:64,:64,:64,0]\n",
    "\n",
    "    raw_t_path = f\"/home/idies/workspace/turbulence-ceph-staging/ncar-jhf/hr/jhf.{t:03d}.nc\"\n",
    "    raw_xr = xr.open_dataset(raw_t_path)\n",
    "    raw_t = raw_xr['t'].isel(nnx=slice(0, 64), nny=slice(0, 64), nnz=slice(0, 64)).values\n",
    "    \n",
    "    print(\"t: \", t, np.all(zarr_comparison_data == raw_t))"
   ]
  },
  {
   "cell_type": "code",
   "execution_count": null,
   "metadata": {
    "tags": []
   },
   "outputs": [],
   "source": [
    "jhf_hr_zarr['temperature'][0,0,0,:10,0]"
   ]
  },
  {
   "cell_type": "code",
   "execution_count": null,
   "metadata": {
    "tags": []
   },
   "outputs": [],
   "source": [
    "jhf_hr_zarr['energy'][0,:10,0,0,0]"
   ]
  },
  {
   "cell_type": "code",
   "execution_count": null,
   "metadata": {
    "tags": []
   },
   "outputs": [],
   "source": [
    "np.array(jhf_hr_netcdf_t0['e'][:10,0,0])"
   ]
  },
  {
   "cell_type": "markdown",
   "metadata": {
    "tags": []
   },
   "source": [
    "Xarray complains about missing metadata. NOT Fixed by GPT o1\n",
    "\n",
    "`written_ds_xr = xr.open_dataset(stored_jhf_path, engine='zarr', consolidated=False)`"
   ]
  },
  {
   "cell_type": "code",
   "execution_count": null,
   "metadata": {
    "tags": []
   },
   "outputs": [],
   "source": [
    "import numpy as np\n",
    "\n",
    "np.all(ds['velocity'][0, :10,0,0, 0] == 0)"
   ]
  },
  {
   "cell_type": "code",
   "execution_count": null,
   "metadata": {
    "tags": []
   },
   "outputs": [],
   "source": [
    "import numpy as np\n",
    "\n",
    "np.all(ds['velocity'][100, :10,0,0, 0] == 0)"
   ]
  },
  {
   "cell_type": "code",
   "execution_count": null,
   "metadata": {
    "tags": []
   },
   "outputs": [],
   "source": [
    "import numpy as np\n",
    "\n",
    "np.all(ds['energy'][100, :10,0,0, 0] == 0)"
   ]
  },
  {
   "cell_type": "markdown",
   "metadata": {},
   "source": [
    "### Low-Rate"
   ]
  },
  {
   "cell_type": "code",
   "execution_count": null,
   "metadata": {
    "tags": []
   },
   "outputs": [],
   "source": [
    "stored_jhf_lr_path = \"/home/idies/workspace/turbulence-ceph-staging/sciserver-turbulence/stsabl2048low/stsabl2048low.zarr\"\n",
    "raw_jhf_lr_0_path = \"/home/idies/workspace/turbulence-ceph-staging/ncar-jhf/lr/jhf.000.nc\"\n",
    "raw_jhf_lr_1_path = \"/home/idies/workspace/turbulence-ceph-staging/ncar-jhf/lr/jhf.001.nc\"\n",
    "raw_jhf_lr_19_path = \"/home/idies/workspace/turbulence-ceph-staging/ncar-jhf/lr/jhf.019.nc\""
   ]
  },
  {
   "cell_type": "code",
   "execution_count": null,
   "metadata": {
    "tags": []
   },
   "outputs": [],
   "source": [
    "import zarr\n",
    "import xarray as xr\n",
    "import numpy as np\n",
    "\n",
    "jhf_lr_zarr = zarr.open(stored_jhf_lr_path)\n",
    "jhf_lr_netcdf_t0 = xr.open_dataset(raw_jhf_lr_0_path)\n",
    "jhf_lr_netcdf_t1 = xr.open_dataset(raw_jhf_lr_1_path)\n",
    "jhf_lr_netcdf_t19 = xr.open_dataset(raw_jhf_lr_19_path)"
   ]
  },
  {
   "cell_type": "markdown",
   "metadata": {},
   "source": [
    "#### Comparing Real Values"
   ]
  },
  {
   "cell_type": "code",
   "execution_count": null,
   "metadata": {},
   "outputs": [],
   "source": [
    "jhf_lr_zarr['temperature'][0,:10,0,0,0]"
   ]
  },
  {
   "cell_type": "code",
   "execution_count": null,
   "metadata": {
    "tags": []
   },
   "outputs": [],
   "source": [
    "np.array(jhf_lr_netcdf_t0['t'][:10,0,0])"
   ]
  },
  {
   "cell_type": "markdown",
   "metadata": {},
   "source": [
    "# Data Statistics - Mean Temp. across Axis"
   ]
  },
  {
   "cell_type": "code",
   "execution_count": 18,
   "metadata": {
    "execution": {
     "iopub.execute_input": "2025-01-15T15:09:03.343448Z",
     "iopub.status.busy": "2025-01-15T15:09:03.343180Z",
     "iopub.status.idle": "2025-01-15T15:09:03.350004Z",
     "shell.execute_reply": "2025-01-15T15:09:03.349336Z",
     "shell.execute_reply.started": "2025-01-15T15:09:03.343431Z"
    },
    "tags": []
   },
   "outputs": [
    {
     "ename": "SyntaxError",
     "evalue": "non-default argument follows default argument (2702407994.py, line 10)",
     "output_type": "error",
     "traceback": [
      "\u001b[0;36m  Cell \u001b[0;32mIn [18], line 10\u001b[0;36m\u001b[0m\n\u001b[0;31m    ):\u001b[0m\n\u001b[0m    ^\u001b[0m\n\u001b[0;31mSyntaxError\u001b[0m\u001b[0;31m:\u001b[0m non-default argument follows default argument\n"
     ]
    }
   ],
   "source": [
    "import os\n",
    "from typing import Literal\n",
    "from matplotlib import pyplot as plt\n",
    "\n",
    "def plot_mean_temp_across_z(\n",
    "    ds, \n",
    "    t: int, \n",
    "    data_type: Literal[\"zarr\", \"original\"],\n",
    "    spacing: int = 128, # Loads 1 every 2 chunks. Chunks are 64^3\n",
    "):\n",
    "    # Validate data_type\n",
    "    if data_type not in (\"zarr\", \"original\"):\n",
    "        raise ValueError(\"data_type must be either 'zarr' or 'original'\")\n",
    "\n",
    "    # Ensure the folder exists\n",
    "    output_folder = \"mean_temperature_plots\"\n",
    "    os.makedirs(output_folder, exist_ok=True)\n",
    "\n",
    "    # Compute mean temperatures\n",
    "    xy_means = []\n",
    "    for i in range(0, 2048, spacing):\n",
    "        # Assuming nnz-nny-nnx format\n",
    "        xy_means.append(ds['temperature'][0, i, :, :, 0].mean())\n",
    "\n",
    "    # Plotting\n",
    "    plt.plot(list(range(0, ds['temperature'].shape[1], spacing)), xy_means)\n",
    "    plt.title(\"Mean Temperature across Z\")\n",
    "    plt.xlabel(\"Slice (Z)\")\n",
    "    plt.ylabel(\"Average Temperature\")\n",
    "\n",
    "    # File name generation\n",
    "    file_name = os.path.join(output_folder, f\"mean_z_temperature_{data_type}_t_{t}.png\")\n",
    "    plt.savefig(file_name)\n",
    "    plt.close()  # Close the figure to free up memory\n",
    "    print(f\"Saved plot as {file_name}\")"
   ]
  },
  {
   "cell_type": "code",
   "execution_count": 12,
   "metadata": {
    "execution": {
     "iopub.execute_input": "2025-01-15T14:52:01.008364Z",
     "iopub.status.busy": "2025-01-15T14:52:01.008129Z",
     "iopub.status.idle": "2025-01-15T14:52:01.017041Z",
     "shell.execute_reply": "2025-01-15T14:52:01.016582Z",
     "shell.execute_reply.started": "2025-01-15T14:52:01.008348Z"
    },
    "tags": []
   },
   "outputs": [
    {
     "data": {
      "text/plain": [
       "<zarr.core.Array '/temperature' (105, 2048, 2048, 2048, 1) float32>"
      ]
     },
     "execution_count": 12,
     "metadata": {},
     "output_type": "execute_result"
    }
   ],
   "source": [
    "jhf_hr_zarr['temperature']"
   ]
  },
  {
   "cell_type": "code",
   "execution_count": 13,
   "metadata": {
    "execution": {
     "iopub.execute_input": "2025-01-15T14:52:10.034639Z",
     "iopub.status.busy": "2025-01-15T14:52:10.034396Z",
     "iopub.status.idle": "2025-01-15T14:52:10.037884Z",
     "shell.execute_reply": "2025-01-15T14:52:10.037313Z",
     "shell.execute_reply.started": "2025-01-15T14:52:10.034623Z"
    }
   },
   "outputs": [],
   "source": [
    "ds = jhf_hr_zarr"
   ]
  },
  {
   "cell_type": "markdown",
   "metadata": {},
   "source": [
    "## Across Z"
   ]
  },
  {
   "cell_type": "markdown",
   "metadata": {},
   "source": [
    "### Zarr"
   ]
  },
  {
   "cell_type": "code",
   "execution_count": 17,
   "metadata": {
    "execution": {
     "iopub.execute_input": "2025-01-15T14:56:02.622745Z",
     "iopub.status.busy": "2025-01-15T14:56:02.622462Z",
     "iopub.status.idle": "2025-01-15T15:09:00.221424Z",
     "shell.execute_reply": "2025-01-15T15:09:00.220634Z",
     "shell.execute_reply.started": "2025-01-15T14:56:02.622729Z"
    },
    "tags": []
   },
   "outputs": [
    {
     "ename": "KeyboardInterrupt",
     "evalue": "",
     "output_type": "error",
     "traceback": [
      "\u001b[0;31m---------------------------------------------------------------------------\u001b[0m",
      "\u001b[0;31mKeyboardInterrupt\u001b[0m                         Traceback (most recent call last)",
      "Cell \u001b[0;32mIn [17], line 2\u001b[0m\n\u001b[1;32m      1\u001b[0m \u001b[38;5;28;01mfor\u001b[39;00m t \u001b[38;5;129;01min\u001b[39;00m \u001b[38;5;28mrange\u001b[39m(\u001b[38;5;241m105\u001b[39m):\n\u001b[0;32m----> 2\u001b[0m     \u001b[43mplot_mean_temp_across_z\u001b[49m\u001b[43m(\u001b[49m\u001b[43mds\u001b[49m\u001b[43m,\u001b[49m\u001b[43m \u001b[49m\u001b[43mt\u001b[49m\u001b[43m,\u001b[49m\u001b[43m \u001b[49m\u001b[43mspacing\u001b[49m\u001b[38;5;241;43m=\u001b[39;49m\u001b[38;5;241;43m50\u001b[39;49m\u001b[43m)\u001b[49m\n",
      "Cell \u001b[0;32mIn [15], line 8\u001b[0m, in \u001b[0;36mplot_mean_temp_across_z\u001b[0;34m(ds, t, spacing)\u001b[0m\n\u001b[1;32m      4\u001b[0m xy_means \u001b[38;5;241m=\u001b[39m []\n\u001b[1;32m      6\u001b[0m \u001b[38;5;28;01mfor\u001b[39;00m i \u001b[38;5;129;01min\u001b[39;00m \u001b[38;5;28mrange\u001b[39m(\u001b[38;5;241m0\u001b[39m, \u001b[38;5;241m2048\u001b[39m, spacing):\n\u001b[1;32m      7\u001b[0m     \u001b[38;5;66;03m# Remember, nnz-nny-nnx\u001b[39;00m\n\u001b[0;32m----> 8\u001b[0m     xy_means\u001b[38;5;241m.\u001b[39mappend(\u001b[43mds\u001b[49m\u001b[43m[\u001b[49m\u001b[38;5;124;43m'\u001b[39;49m\u001b[38;5;124;43mtemperature\u001b[39;49m\u001b[38;5;124;43m'\u001b[39;49m\u001b[43m]\u001b[49m\u001b[43m[\u001b[49m\u001b[38;5;241;43m0\u001b[39;49m\u001b[43m,\u001b[49m\u001b[43mi\u001b[49m\u001b[43m,\u001b[49m\u001b[43m:\u001b[49m\u001b[43m,\u001b[49m\u001b[43m:\u001b[49m\u001b[43m,\u001b[49m\u001b[38;5;241;43m0\u001b[39;49m\u001b[43m]\u001b[49m\u001b[38;5;241m.\u001b[39mmean())\n\u001b[1;32m     11\u001b[0m plt\u001b[38;5;241m.\u001b[39mplot(\u001b[38;5;28mlist\u001b[39m(\u001b[38;5;28mrange\u001b[39m(\u001b[38;5;241m0\u001b[39m, ds[\u001b[38;5;124m'\u001b[39m\u001b[38;5;124mtemperature\u001b[39m\u001b[38;5;124m'\u001b[39m]\u001b[38;5;241m.\u001b[39mshape[\u001b[38;5;241m1\u001b[39m], \u001b[38;5;241m50\u001b[39m)), xy_means)\n\u001b[1;32m     13\u001b[0m plt\u001b[38;5;241m.\u001b[39mtitle(\u001b[38;5;124m\"\u001b[39m\u001b[38;5;124mMean Temperature across Z\u001b[39m\u001b[38;5;124m\"\u001b[39m)\n",
      "File \u001b[0;32m~/mambaforge/envs/py39/lib/python3.9/site-packages/zarr/core.py:807\u001b[0m, in \u001b[0;36mArray.__getitem__\u001b[0;34m(self, selection)\u001b[0m\n\u001b[1;32m    805\u001b[0m     result \u001b[38;5;241m=\u001b[39m \u001b[38;5;28mself\u001b[39m\u001b[38;5;241m.\u001b[39mvindex[selection]\n\u001b[1;32m    806\u001b[0m \u001b[38;5;28;01melse\u001b[39;00m:\n\u001b[0;32m--> 807\u001b[0m     result \u001b[38;5;241m=\u001b[39m \u001b[38;5;28;43mself\u001b[39;49m\u001b[38;5;241;43m.\u001b[39;49m\u001b[43mget_basic_selection\u001b[49m\u001b[43m(\u001b[49m\u001b[43mpure_selection\u001b[49m\u001b[43m,\u001b[49m\u001b[43m \u001b[49m\u001b[43mfields\u001b[49m\u001b[38;5;241;43m=\u001b[39;49m\u001b[43mfields\u001b[49m\u001b[43m)\u001b[49m\n\u001b[1;32m    808\u001b[0m \u001b[38;5;28;01mreturn\u001b[39;00m result\n",
      "File \u001b[0;32m~/mambaforge/envs/py39/lib/python3.9/site-packages/zarr/core.py:933\u001b[0m, in \u001b[0;36mArray.get_basic_selection\u001b[0;34m(self, selection, out, fields)\u001b[0m\n\u001b[1;32m    930\u001b[0m     \u001b[38;5;28;01mreturn\u001b[39;00m \u001b[38;5;28mself\u001b[39m\u001b[38;5;241m.\u001b[39m_get_basic_selection_zd(selection\u001b[38;5;241m=\u001b[39mselection, out\u001b[38;5;241m=\u001b[39mout,\n\u001b[1;32m    931\u001b[0m                                         fields\u001b[38;5;241m=\u001b[39mfields)\n\u001b[1;32m    932\u001b[0m \u001b[38;5;28;01melse\u001b[39;00m:\n\u001b[0;32m--> 933\u001b[0m     \u001b[38;5;28;01mreturn\u001b[39;00m \u001b[38;5;28;43mself\u001b[39;49m\u001b[38;5;241;43m.\u001b[39;49m\u001b[43m_get_basic_selection_nd\u001b[49m\u001b[43m(\u001b[49m\u001b[43mselection\u001b[49m\u001b[38;5;241;43m=\u001b[39;49m\u001b[43mselection\u001b[49m\u001b[43m,\u001b[49m\u001b[43m \u001b[49m\u001b[43mout\u001b[49m\u001b[38;5;241;43m=\u001b[39;49m\u001b[43mout\u001b[49m\u001b[43m,\u001b[49m\n\u001b[1;32m    934\u001b[0m \u001b[43m                                        \u001b[49m\u001b[43mfields\u001b[49m\u001b[38;5;241;43m=\u001b[39;49m\u001b[43mfields\u001b[49m\u001b[43m)\u001b[49m\n",
      "File \u001b[0;32m~/mambaforge/envs/py39/lib/python3.9/site-packages/zarr/core.py:976\u001b[0m, in \u001b[0;36mArray._get_basic_selection_nd\u001b[0;34m(self, selection, out, fields)\u001b[0m\n\u001b[1;32m    970\u001b[0m \u001b[38;5;28;01mdef\u001b[39;00m \u001b[38;5;21m_get_basic_selection_nd\u001b[39m(\u001b[38;5;28mself\u001b[39m, selection, out\u001b[38;5;241m=\u001b[39m\u001b[38;5;28;01mNone\u001b[39;00m, fields\u001b[38;5;241m=\u001b[39m\u001b[38;5;28;01mNone\u001b[39;00m):\n\u001b[1;32m    971\u001b[0m     \u001b[38;5;66;03m# implementation of basic selection for array with at least one dimension\u001b[39;00m\n\u001b[1;32m    972\u001b[0m \n\u001b[1;32m    973\u001b[0m     \u001b[38;5;66;03m# setup indexer\u001b[39;00m\n\u001b[1;32m    974\u001b[0m     indexer \u001b[38;5;241m=\u001b[39m BasicIndexer(selection, \u001b[38;5;28mself\u001b[39m)\n\u001b[0;32m--> 976\u001b[0m     \u001b[38;5;28;01mreturn\u001b[39;00m \u001b[38;5;28;43mself\u001b[39;49m\u001b[38;5;241;43m.\u001b[39;49m\u001b[43m_get_selection\u001b[49m\u001b[43m(\u001b[49m\u001b[43mindexer\u001b[49m\u001b[38;5;241;43m=\u001b[39;49m\u001b[43mindexer\u001b[49m\u001b[43m,\u001b[49m\u001b[43m \u001b[49m\u001b[43mout\u001b[49m\u001b[38;5;241;43m=\u001b[39;49m\u001b[43mout\u001b[49m\u001b[43m,\u001b[49m\u001b[43m \u001b[49m\u001b[43mfields\u001b[49m\u001b[38;5;241;43m=\u001b[39;49m\u001b[43mfields\u001b[49m\u001b[43m)\u001b[49m\n",
      "File \u001b[0;32m~/mambaforge/envs/py39/lib/python3.9/site-packages/zarr/core.py:1267\u001b[0m, in \u001b[0;36mArray._get_selection\u001b[0;34m(self, indexer, out, fields)\u001b[0m\n\u001b[1;32m   1261\u001b[0m \u001b[38;5;28;01mif\u001b[39;00m \u001b[38;5;129;01mnot\u001b[39;00m \u001b[38;5;28mhasattr\u001b[39m(\u001b[38;5;28mself\u001b[39m\u001b[38;5;241m.\u001b[39mchunk_store, \u001b[38;5;124m\"\u001b[39m\u001b[38;5;124mgetitems\u001b[39m\u001b[38;5;124m\"\u001b[39m) \u001b[38;5;129;01mor\u001b[39;00m \\\n\u001b[1;32m   1262\u001b[0m    \u001b[38;5;28many\u001b[39m(\u001b[38;5;28mmap\u001b[39m(\u001b[38;5;28;01mlambda\u001b[39;00m x: x \u001b[38;5;241m==\u001b[39m \u001b[38;5;241m0\u001b[39m, \u001b[38;5;28mself\u001b[39m\u001b[38;5;241m.\u001b[39mshape)):\n\u001b[1;32m   1263\u001b[0m     \u001b[38;5;66;03m# sequentially get one key at a time from storage\u001b[39;00m\n\u001b[1;32m   1264\u001b[0m     \u001b[38;5;28;01mfor\u001b[39;00m chunk_coords, chunk_selection, out_selection \u001b[38;5;129;01min\u001b[39;00m indexer:\n\u001b[1;32m   1265\u001b[0m \n\u001b[1;32m   1266\u001b[0m         \u001b[38;5;66;03m# load chunk selection into output array\u001b[39;00m\n\u001b[0;32m-> 1267\u001b[0m         \u001b[38;5;28;43mself\u001b[39;49m\u001b[38;5;241;43m.\u001b[39;49m\u001b[43m_chunk_getitem\u001b[49m\u001b[43m(\u001b[49m\u001b[43mchunk_coords\u001b[49m\u001b[43m,\u001b[49m\u001b[43m \u001b[49m\u001b[43mchunk_selection\u001b[49m\u001b[43m,\u001b[49m\u001b[43m \u001b[49m\u001b[43mout\u001b[49m\u001b[43m,\u001b[49m\u001b[43m \u001b[49m\u001b[43mout_selection\u001b[49m\u001b[43m,\u001b[49m\n\u001b[1;32m   1268\u001b[0m \u001b[43m                            \u001b[49m\u001b[43mdrop_axes\u001b[49m\u001b[38;5;241;43m=\u001b[39;49m\u001b[43mindexer\u001b[49m\u001b[38;5;241;43m.\u001b[39;49m\u001b[43mdrop_axes\u001b[49m\u001b[43m,\u001b[49m\u001b[43m \u001b[49m\u001b[43mfields\u001b[49m\u001b[38;5;241;43m=\u001b[39;49m\u001b[43mfields\u001b[49m\u001b[43m)\u001b[49m\n\u001b[1;32m   1269\u001b[0m \u001b[38;5;28;01melse\u001b[39;00m:\n\u001b[1;32m   1270\u001b[0m     \u001b[38;5;66;03m# allow storage to get multiple items at once\u001b[39;00m\n\u001b[1;32m   1271\u001b[0m     lchunk_coords, lchunk_selection, lout_selection \u001b[38;5;241m=\u001b[39m \u001b[38;5;28mzip\u001b[39m(\u001b[38;5;241m*\u001b[39mindexer)\n",
      "File \u001b[0;32m~/mambaforge/envs/py39/lib/python3.9/site-packages/zarr/core.py:1966\u001b[0m, in \u001b[0;36mArray._chunk_getitem\u001b[0;34m(self, chunk_coords, chunk_selection, out, out_selection, drop_axes, fields)\u001b[0m\n\u001b[1;32m   1962\u001b[0m ckey \u001b[38;5;241m=\u001b[39m \u001b[38;5;28mself\u001b[39m\u001b[38;5;241m.\u001b[39m_chunk_key(chunk_coords)\n\u001b[1;32m   1964\u001b[0m \u001b[38;5;28;01mtry\u001b[39;00m:\n\u001b[1;32m   1965\u001b[0m     \u001b[38;5;66;03m# obtain compressed data for chunk\u001b[39;00m\n\u001b[0;32m-> 1966\u001b[0m     cdata \u001b[38;5;241m=\u001b[39m \u001b[38;5;28;43mself\u001b[39;49m\u001b[38;5;241;43m.\u001b[39;49m\u001b[43mchunk_store\u001b[49m\u001b[43m[\u001b[49m\u001b[43mckey\u001b[49m\u001b[43m]\u001b[49m\n\u001b[1;32m   1968\u001b[0m \u001b[38;5;28;01mexcept\u001b[39;00m \u001b[38;5;167;01mKeyError\u001b[39;00m:\n\u001b[1;32m   1969\u001b[0m     \u001b[38;5;66;03m# chunk not initialized\u001b[39;00m\n\u001b[1;32m   1970\u001b[0m     \u001b[38;5;28;01mif\u001b[39;00m \u001b[38;5;28mself\u001b[39m\u001b[38;5;241m.\u001b[39m_fill_value \u001b[38;5;129;01mis\u001b[39;00m \u001b[38;5;129;01mnot\u001b[39;00m \u001b[38;5;28;01mNone\u001b[39;00m:\n",
      "File \u001b[0;32m~/mambaforge/envs/py39/lib/python3.9/site-packages/zarr/storage.py:1072\u001b[0m, in \u001b[0;36mDirectoryStore.__getitem__\u001b[0;34m(self, key)\u001b[0m\n\u001b[1;32m   1070\u001b[0m filepath \u001b[38;5;241m=\u001b[39m os\u001b[38;5;241m.\u001b[39mpath\u001b[38;5;241m.\u001b[39mjoin(\u001b[38;5;28mself\u001b[39m\u001b[38;5;241m.\u001b[39mpath, key)\n\u001b[1;32m   1071\u001b[0m \u001b[38;5;28;01mif\u001b[39;00m os\u001b[38;5;241m.\u001b[39mpath\u001b[38;5;241m.\u001b[39misfile(filepath):\n\u001b[0;32m-> 1072\u001b[0m     \u001b[38;5;28;01mreturn\u001b[39;00m \u001b[38;5;28;43mself\u001b[39;49m\u001b[38;5;241;43m.\u001b[39;49m\u001b[43m_fromfile\u001b[49m\u001b[43m(\u001b[49m\u001b[43mfilepath\u001b[49m\u001b[43m)\u001b[49m\n\u001b[1;32m   1073\u001b[0m \u001b[38;5;28;01melse\u001b[39;00m:\n\u001b[1;32m   1074\u001b[0m     \u001b[38;5;28;01mraise\u001b[39;00m \u001b[38;5;167;01mKeyError\u001b[39;00m(key)\n",
      "File \u001b[0;32m~/mambaforge/envs/py39/lib/python3.9/site-packages/zarr/storage.py:1047\u001b[0m, in \u001b[0;36mDirectoryStore._fromfile\u001b[0;34m(fn)\u001b[0m\n\u001b[1;32m   1034\u001b[0m \u001b[38;5;124;03m\"\"\" Read data from a file\u001b[39;00m\n\u001b[1;32m   1035\u001b[0m \n\u001b[1;32m   1036\u001b[0m \u001b[38;5;124;03mParameters\u001b[39;00m\n\u001b[0;32m   (...)\u001b[0m\n\u001b[1;32m   1044\u001b[0m \u001b[38;5;124;03mfile reading logic.\u001b[39;00m\n\u001b[1;32m   1045\u001b[0m \u001b[38;5;124;03m\"\"\"\u001b[39;00m\n\u001b[1;32m   1046\u001b[0m \u001b[38;5;28;01mwith\u001b[39;00m \u001b[38;5;28mopen\u001b[39m(fn, \u001b[38;5;124m'\u001b[39m\u001b[38;5;124mrb\u001b[39m\u001b[38;5;124m'\u001b[39m) \u001b[38;5;28;01mas\u001b[39;00m f:\n\u001b[0;32m-> 1047\u001b[0m     \u001b[38;5;28;01mreturn\u001b[39;00m \u001b[43mf\u001b[49m\u001b[38;5;241;43m.\u001b[39;49m\u001b[43mread\u001b[49m\u001b[43m(\u001b[49m\u001b[43m)\u001b[49m\n",
      "\u001b[0;31mKeyboardInterrupt\u001b[0m: "
     ]
    }
   ],
   "source": [
    "for t in range(105):\n",
    "    plot_mean_temp_across_z(ds, t, spacing=128)"
   ]
  },
  {
   "cell_type": "markdown",
   "metadata": {},
   "source": [
    "### Original NetCDF"
   ]
  },
  {
   "cell_type": "code",
   "execution_count": null,
   "metadata": {
    "execution": {
     "iopub.status.busy": "2025-01-15T14:53:23.702012Z",
     "iopub.status.idle": "2025-01-15T14:53:23.702232Z",
     "shell.execute_reply": "2025-01-15T14:53:23.702126Z",
     "shell.execute_reply.started": "2025-01-15T14:53:23.702117Z"
    },
    "tags": []
   },
   "outputs": [],
   "source": [
    "xy_means_original = []\n",
    "\n",
    "for i in range(0, 2048, 50):\n",
    "    xy_means_original.append(original_ds['t'][i,:,:].mean())\n",
    "\n",
    "plt.plot(list(range(0, ds['temperature'].shape[1], 50)), xy_means_original)\n",
    "\n",
    "plt.title(\"Temperature across Z\")\n",
    "plt.xlabel(\"Slice (Z)\")\n",
    "plt.ylabel(\"Average Temperature\")"
   ]
  },
  {
   "cell_type": "markdown",
   "metadata": {
    "jp-MarkdownHeadingCollapsed": true,
    "tags": []
   },
   "source": [
    "## Across X"
   ]
  },
  {
   "cell_type": "code",
   "execution_count": null,
   "metadata": {
    "tags": []
   },
   "outputs": [],
   "source": [
    "yz_means = []\n",
    "\n",
    "\n",
    "for i in range(0, 2048, 50):\n",
    "    yz_means.append(ds['temperature'][0,:,:,i,0].mean())\n",
    "\n",
    "\n",
    "plt.plot(list(range(0, 2048, 50)), yz_means)\n",
    "plt.title(\"Temperature across X\")\n",
    "plt.xlabel(\"Slice (X)\")\n",
    "plt.ylabel(\"Average Temperature\")"
   ]
  },
  {
   "cell_type": "code",
   "execution_count": null,
   "metadata": {
    "tags": []
   },
   "outputs": [],
   "source": [
    "yz_means_original = []\n",
    "\n",
    "for i in range(0, 2048, 50):\n",
    "    yz_means_original.append(original_ds['t'][:,:,i].mean())\n",
    "\n",
    "\n",
    "plt.plot(list(range(0, 2048, 50)), yz_means_original)\n",
    "plt.title(\"Temperature across X\")\n",
    "plt.xlabel(\"Slice (X)\")\n",
    "plt.ylabel(\"Average Temperature\")"
   ]
  },
  {
   "cell_type": "markdown",
   "metadata": {
    "jp-MarkdownHeadingCollapsed": true,
    "tags": []
   },
   "source": [
    "# Zarr data Slices\n",
    "\n",
    "This can take a few minutes\n",
    "\n",
    " Sciserver doesn't allow localhost connections, so can't use Dask Cluster console Sciserver doesn't allow localhost connections, so can't use Dask Cluster console\n",
    " \n",
    "### Function Definitions"
   ]
  },
  {
   "cell_type": "code",
   "execution_count": null,
   "metadata": {
    "tags": []
   },
   "outputs": [],
   "source": [
    "import zarr\n",
    "import dask.array as da\n",
    "import matplotlib.pyplot as plt\n",
    "from dask import compute\n",
    "from dask.diagnostics import ProgressBar\n",
    "\n",
    "# Open the Zarr group\n",
    "store = zarr.open_group(stored_jhf_path, mode='r')\n",
    "\n",
    "# Create Dask arrays\n",
    "data_arrays = {}\n",
    "variables = list(store.array_keys())\n",
    "for var_name in variables:\n",
    "    zarr_array = store[var_name]\n",
    "    dask_array = da.from_zarr(zarr_array)\n",
    "    # Squeeze scalar variables\n",
    "    if dask_array.shape[-1] == 1:\n",
    "        dask_array = dask_array.squeeze(axis=-1)\n",
    "    data_arrays[var_name] = dask_array\n",
    "\n",
    "# Function to collect data slices\n",
    "def collect_data_slices(data_arrays, variables, timesteps):\n",
    "    data_slices = []\n",
    "    titles = []\n",
    "    for variable in variables:\n",
    "        for timestep in timesteps:\n",
    "            dask_array = data_arrays[variable]\n",
    "            \n",
    "            # Get slices along each dimension\n",
    "            x_slice = dask_array[timestep, :, :, 0]\n",
    "            y_slice = dask_array[timestep, :, 0, :]\n",
    "            z_slice = dask_array[timestep, 0, :, :]\n",
    "            \n",
    "            # For vector variables, handle components\n",
    "            if variable == 'velocity':\n",
    "                for component in range(3):\n",
    "                    x_comp_slice = x_slice[..., component]\n",
    "                    y_comp_slice = y_slice[..., component]\n",
    "                    z_comp_slice = z_slice[..., component]\n",
    "                    \n",
    "                    data_slices.extend([x_comp_slice, y_comp_slice, z_comp_slice])\n",
    "                    titles.extend([\n",
    "                        f\"{variable} (component {component}) nnx=0 Timestep={timestep}\",\n",
    "                        f\"{variable} (component {component}) nny=0 Timestep={timestep}\",\n",
    "                        f\"{variable} (component {component}) nnz=0 Timestep={timestep}\"\n",
    "                    ])\n",
    "            else:\n",
    "                data_slices.extend([x_slice, y_slice, z_slice])\n",
    "                titles.extend([\n",
    "                    f\"{variable} nnx=0 Timestep={timestep}\",\n",
    "                    f\"{variable} nny=0 Timestep={timestep}\",\n",
    "                    f\"{variable} nnz=0 Timestep={timestep}\"\n",
    "                ])\n",
    "    return data_slices, titles\n",
    "\n",
    "# Variables and timesteps\n",
    "variables = ['energy', 'temperature', 'pressure', 'velocity']\n",
    "timesteps = range(0, data_arrays['energy'].shape[0], 5)  # Every 5th timestep\n",
    "\n",
    "# Collect data slices\n",
    "data_slices, titles = collect_data_slices(data_arrays, variables, timesteps)\n",
    "\n",
    "# Compute all data slices at once\n",
    "with ProgressBar():\n",
    "    computed_slices = compute(*data_slices)\n",
    "\n",
    "# Plot all images\n",
    "for data, title in zip(computed_slices, titles):\n",
    "    plt.figure()\n",
    "    plt.imshow(data)\n",
    "    plt.title(title)\n",
    "    plt.gca().invert_yaxis()\n",
    "    plt.colorbar()\n",
    "    plt.show()\n"
   ]
  },
  {
   "cell_type": "code",
   "execution_count": null,
   "metadata": {
    "tags": []
   },
   "outputs": [],
   "source": [
    "from matplotlib import pyplot as plt\n",
    "\n",
    "def plot_along_3_dimensions(ds, variable, plot_component=0, timestep = 0):\n",
    "    plt.figure()\n",
    "    plt.imshow(ds[variable][timestep,:,:, 0, plot_component])\n",
    "    plt.title(variable + \" X=1 + Timestep = \" + str(timestep))\n",
    "    plt.gca().invert_yaxis()\n",
    "    plt.colorbar()\n",
    "    \n",
    "    \n",
    "    plt.figure()\n",
    "    plt.imshow(ds[variable][timestep,:,0, :, plot_component])\n",
    "    plt.title(variable + \" Y=1 + Timestep = \" + str(timestep))\n",
    "    plt.gca().invert_yaxis()\n",
    "    plt.colorbar()\n",
    "\n",
    "    \n",
    "    plt.figure()\n",
    "    plt.imshow(ds[variable][timestep,0,:, :, plot_component])\n",
    "    plt.title(variable + \" Z=1 + Timestep = \" + str(timestep))\n",
    "    plt.gca().invert_yaxis()\n",
    "    plt.colorbar()"
   ]
  },
  {
   "cell_type": "code",
   "execution_count": null,
   "metadata": {
    "tags": []
   },
   "outputs": [],
   "source": [
    "plt.rcParams['image.cmap'] = 'inferno'"
   ]
  },
  {
   "cell_type": "markdown",
   "metadata": {},
   "source": [
    "### Function Calls"
   ]
  },
  {
   "cell_type": "code",
   "execution_count": null,
   "metadata": {
    "tags": []
   },
   "outputs": [],
   "source": [
    "ds = ds_zarr"
   ]
  },
  {
   "cell_type": "code",
   "execution_count": null,
   "metadata": {
    "tags": []
   },
   "outputs": [],
   "source": [
    "ds['energy'].info"
   ]
  },
  {
   "cell_type": "code",
   "execution_count": null,
   "metadata": {
    "tags": []
   },
   "outputs": [],
   "source": [
    "ds['energy'][15,:-10,0,0, 0]"
   ]
  },
  {
   "cell_type": "code",
   "execution_count": null,
   "metadata": {
    "tags": []
   },
   "outputs": [],
   "source": [
    "variable = \"energy\"\n",
    "timestep = 0"
   ]
  },
  {
   "cell_type": "code",
   "execution_count": null,
   "metadata": {
    "tags": []
   },
   "outputs": [],
   "source": [
    "plot_along_3_dimensions(ds, variable, plot_component=0, timestep = timestep)"
   ]
  },
  {
   "cell_type": "code",
   "execution_count": null,
   "metadata": {
    "tags": []
   },
   "outputs": [],
   "source": [
    "plot_along_3_dimensions(ds, variable=\"pressure\", plot_component=0, timestep = timestep)"
   ]
  },
  {
   "cell_type": "code",
   "execution_count": null,
   "metadata": {},
   "outputs": [],
   "source": [
    "plot_along_3_dimensions(ds, variable=\"temperature\", plot_component=0, timestep = timestep)"
   ]
  },
  {
   "cell_type": "code",
   "execution_count": null,
   "metadata": {},
   "outputs": [],
   "source": [
    "plot_along_3_dimensions(ds, variable=\"velocity\", plot_component=0, timestep = timestep)"
   ]
  },
  {
   "cell_type": "code",
   "execution_count": null,
   "metadata": {},
   "outputs": [],
   "source": [
    "plot_along_3_dimensions(ds, variable=\"velocity\", plot_component=1, timestep = timestep)"
   ]
  },
  {
   "cell_type": "code",
   "execution_count": null,
   "metadata": {},
   "outputs": [],
   "source": [
    "plot_along_3_dimensions(ds, variable=\"velocity\", plot_component=2, timestep = timestep)"
   ]
  },
  {
   "cell_type": "code",
   "execution_count": null,
   "metadata": {},
   "outputs": [],
   "source": [
    "timestep = 1"
   ]
  },
  {
   "cell_type": "code",
   "execution_count": null,
   "metadata": {},
   "outputs": [],
   "source": [
    "plot_along_3_dimensions(ds, variable='energy', plot_component=0, timestep = timestep)"
   ]
  },
  {
   "cell_type": "code",
   "execution_count": null,
   "metadata": {},
   "outputs": [],
   "source": [
    "plot_along_3_dimensions(ds, variable=\"pressure\", plot_component=0, timestep = timestep)"
   ]
  },
  {
   "cell_type": "code",
   "execution_count": null,
   "metadata": {},
   "outputs": [],
   "source": [
    "plot_along_3_dimensions(ds, variable=\"temperature\", plot_component=0, timestep = timestep)"
   ]
  },
  {
   "cell_type": "code",
   "execution_count": null,
   "metadata": {},
   "outputs": [],
   "source": [
    "plot_along_3_dimensions(ds, variable=\"velocity\", plot_component=0, timestep = timestep)"
   ]
  },
  {
   "cell_type": "code",
   "execution_count": null,
   "metadata": {},
   "outputs": [],
   "source": [
    "plot_along_3_dimensions(ds, variable=\"velocity\", plot_component=1, timestep = timestep)"
   ]
  },
  {
   "cell_type": "code",
   "execution_count": null,
   "metadata": {},
   "outputs": [],
   "source": [
    "plot_along_3_dimensions(ds, variable=\"velocity\", plot_component=2, timestep = timestep)"
   ]
  },
  {
   "cell_type": "code",
   "execution_count": null,
   "metadata": {},
   "outputs": [],
   "source": [
    "import dask.array as da"
   ]
  },
  {
   "cell_type": "code",
   "execution_count": null,
   "metadata": {
    "tags": []
   },
   "outputs": [],
   "source": [
    "da.equal(ds['energy'][0,:,:, 0, 0], original_ds['e'][:,:,0])"
   ]
  },
  {
   "cell_type": "code",
   "execution_count": null,
   "metadata": {
    "tags": []
   },
   "outputs": [],
   "source": [
    "from matplotlib import pyplot as plt\n",
    "\n",
    "plt.imshow(ds['energy'][0,:,0, :, 0])\n",
    "plt.title(\"Y=1\")\n",
    "plt.gca().invert_yaxis()\n",
    "plt.colorbar()"
   ]
  },
  {
   "cell_type": "code",
   "execution_count": null,
   "metadata": {
    "tags": []
   },
   "outputs": [],
   "source": [
    "plt.imshow(ds['energy'][0,0,:, :, 0])\n",
    "plt.title(\"Z=1\")\n",
    "plt.gca().invert_yaxis()\n",
    "plt.colorbar()"
   ]
  },
  {
   "cell_type": "code",
   "execution_count": null,
   "metadata": {
    "tags": []
   },
   "outputs": [],
   "source": [
    "plot_along_3_dimensions(ds, 'pressure')"
   ]
  },
  {
   "cell_type": "code",
   "execution_count": null,
   "metadata": {
    "tags": []
   },
   "outputs": [],
   "source": [
    "plot_along_3_dimensions(ds, 'temperature')"
   ]
  },
  {
   "cell_type": "code",
   "execution_count": null,
   "metadata": {
    "tags": []
   },
   "outputs": [],
   "source": [
    "# Original data\n",
    "plt.imshow(original_ds['t'][:, :, 0], cmap=\"inferno\")\n",
    "plt.gca().invert_yaxis()  # Invert the y-axis to place 0 at the bottom\n",
    "\n",
    "plt.title(\"Temperature at t=1, Low-rate, X=1\")\n",
    "# plt.xlabel(\"X\")\n",
    "# plt.ylabel(\"Y\")\n",
    "\n",
    "plt.colorbar()\n",
    "plt.show()"
   ]
  },
  {
   "cell_type": "code",
   "execution_count": null,
   "metadata": {
    "tags": []
   },
   "outputs": [],
   "source": [
    "# Original data\n",
    "plt.imshow(original_ds['t'][:, 0, :], cmap=\"inferno\")\n",
    "plt.gca().invert_yaxis()  # Invert the y-axis to place 0 at the bottom\n",
    "\n",
    "plt.title(\"Temperature at t=1, Low-rate, Y=1\")\n",
    "plt.xlabel(\"X\")\n",
    "plt.ylabel(\"Z\")\n",
    "\n",
    "plt.colorbar()\n",
    "plt.show()"
   ]
  },
  {
   "cell_type": "markdown",
   "metadata": {},
   "source": [
    "## Velocity u"
   ]
  },
  {
   "cell_type": "code",
   "execution_count": null,
   "metadata": {
    "tags": []
   },
   "outputs": [],
   "source": [
    "plot_along_3_dimensions(ds, 'velocity', 0)"
   ]
  },
  {
   "cell_type": "code",
   "execution_count": null,
   "metadata": {},
   "outputs": [],
   "source": [
    "# Original data\n",
    "plt.imshow(original_ds['u'][0, :, :], cmap=\"inferno\")\n",
    "plt.gca().invert_yaxis()  # Invert the y-axis to place 0 at the bottom\n",
    "\n",
    "plt.title(\"u at t=1, Low-rate, Z=1\")\n",
    "plt.xlabel(\"X\")\n",
    "plt.ylabel(\"Y\")\n",
    "\n",
    "plt.colorbar()\n",
    "plt.show()"
   ]
  },
  {
   "cell_type": "code",
   "execution_count": null,
   "metadata": {
    "tags": []
   },
   "outputs": [],
   "source": [
    "# Original data\n",
    "plt.imshow(original_ds['u'][:, :, 0], cmap=\"inferno\")\n",
    "plt.gca().invert_yaxis()  # Invert the y-axis to place 0 at the bottom\n",
    "\n",
    "plt.title(\"u at t=1, Low-rate, X=1\")\n",
    "plt.xlabel(\"X\")\n",
    "plt.ylabel(\"Y\")\n",
    "\n",
    "plt.colorbar()\n",
    "plt.show()"
   ]
  },
  {
   "cell_type": "code",
   "execution_count": null,
   "metadata": {},
   "outputs": [],
   "source": [
    "# Original data\n",
    "plt.imshow(original_ds['u'][:, 0, :], cmap=\"inferno\")\n",
    "plt.gca().invert_yaxis()  # Invert the y-axis to place 0 at the bottom\n",
    "\n",
    "plt.title(\"u at t=1, Low-rate, Y=1\")\n",
    "plt.xlabel(\"X\")\n",
    "plt.ylabel(\"Y\")\n",
    "\n",
    "plt.colorbar()\n",
    "plt.show()"
   ]
  },
  {
   "cell_type": "markdown",
   "metadata": {},
   "source": [
    "## Velocity v"
   ]
  },
  {
   "cell_type": "code",
   "execution_count": null,
   "metadata": {},
   "outputs": [],
   "source": [
    "plot_along_3_dimensions(ds, 'velocity', 1)"
   ]
  },
  {
   "cell_type": "markdown",
   "metadata": {},
   "source": [
    "## Velocity w"
   ]
  },
  {
   "cell_type": "code",
   "execution_count": null,
   "metadata": {},
   "outputs": [],
   "source": [
    "plot_along_3_dimensions(ds, 'velocity', 2)"
   ]
  },
  {
   "cell_type": "code",
   "execution_count": null,
   "metadata": {},
   "outputs": [],
   "source": []
  }
 ],
 "metadata": {
  "kernelspec": {
   "display_name": "Python 3.9 (py39)",
   "language": "python",
   "name": "py39"
  },
  "language_info": {
   "codemirror_mode": {
    "name": "ipython",
    "version": 3
   },
   "file_extension": ".py",
   "mimetype": "text/x-python",
   "name": "python",
   "nbconvert_exporter": "python",
   "pygments_lexer": "ipython3",
   "version": "3.9.13"
  },
  "toc-autonumbering": false,
  "toc-showcode": false,
  "toc-showmarkdowntxt": false
 },
 "nbformat": 4,
 "nbformat_minor": 4
}
